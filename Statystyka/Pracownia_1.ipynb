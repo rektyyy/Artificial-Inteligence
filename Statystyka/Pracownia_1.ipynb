{
 "cells": [
  {
   "cell_type": "code",
   "id": "initial_id",
   "metadata": {
    "collapsed": true,
    "ExecuteTime": {
     "end_time": "2025-10-07T07:47:55.518646Z",
     "start_time": "2025-10-07T07:47:54.344883Z"
    }
   },
   "source": [
    "from scipy.stats import norm\n",
    "import numpy as np\n",
    "import matplotlib.pyplot as plt\n",
    "import pandas as pd"
   ],
   "outputs": [],
   "execution_count": 106
  },
  {
   "metadata": {
    "ExecuteTime": {
     "end_time": "2025-10-07T06:53:52.188942Z",
     "start_time": "2025-10-07T06:53:52.173139Z"
    }
   },
   "cell_type": "code",
   "source": [
    "theta = 0\n",
    "sigma = 1\n",
    "n = 50"
   ],
   "id": "410294ef0901388",
   "outputs": [],
   "execution_count": 21
  },
  {
   "metadata": {},
   "cell_type": "code",
   "outputs": [],
   "execution_count": null,
   "source": "weights_unbiased_3 = np.random.rand(n)",
   "id": "b26e143cb46f6e02"
  },
  {
   "metadata": {
    "ExecuteTime": {
     "end_time": "2025-10-07T07:45:31.683497Z",
     "start_time": "2025-10-07T07:45:31.663381Z"
    }
   },
   "cell_type": "code",
   "source": "theta_hat = norm.rvs(theta, sigma, n)",
   "id": "cecabc3b41c307ab",
   "outputs": [],
   "execution_count": 99
  },
  {
   "metadata": {
    "ExecuteTime": {
     "end_time": "2025-10-07T06:49:41.482905Z",
     "start_time": "2025-10-07T06:49:41.470851Z"
    }
   },
   "cell_type": "code",
   "source": "est_1 = theta_hat.mean()",
   "id": "9c2b4d842bb0cff5",
   "outputs": [],
   "execution_count": 18
  },
  {
   "metadata": {
    "ExecuteTime": {
     "end_time": "2025-10-07T06:49:45.163823Z",
     "start_time": "2025-10-07T06:49:45.138914Z"
    }
   },
   "cell_type": "code",
   "source": "est_2 = np.median(theta_hat)",
   "id": "b8c5e61689ed7a06",
   "outputs": [],
   "execution_count": 19
  },
  {
   "metadata": {
    "ExecuteTime": {
     "end_time": "2025-10-07T07:02:13.870756Z",
     "start_time": "2025-10-07T07:02:13.858142Z"
    }
   },
   "cell_type": "code",
   "source": [
    "weights_3 = weights_unbiased_3 / weights_unbiased_3.sum()\n",
    "est_3 = 0\n",
    "for i in range(n):\n",
    "    est_3 += weights_3[i] * theta_hat[i]"
   ],
   "id": "149cb21455bce75b",
   "outputs": [],
   "execution_count": 33
  },
  {
   "metadata": {
    "ExecuteTime": {
     "end_time": "2025-10-07T07:30:50.203583Z",
     "start_time": "2025-10-07T07:30:50.187476Z"
    }
   },
   "cell_type": "code",
   "source": [
    "def weight_4_gen(i):\n",
    "    return norm.pdf(norm.ppf((i - 1) / n)) - norm.pdf(norm.ppf(i / n))"
   ],
   "id": "16468fd6f3c3bbe",
   "outputs": [],
   "execution_count": 78
  },
  {
   "metadata": {
    "ExecuteTime": {
     "end_time": "2025-10-07T07:30:50.915543Z",
     "start_time": "2025-10-07T07:30:50.780655Z"
    }
   },
   "cell_type": "code",
   "outputs": [],
   "execution_count": 79,
   "source": [
    "theta_hat_sorted = np.sort(theta_hat)\n",
    "weights_4 = [weight_4_gen(i) for i in range(1, n + 1)]\n",
    "est_4 = 0\n",
    "for i in range(n):\n",
    "    est_4 += theta_hat_sorted[i] * weights_4[i]"
   ],
   "id": "d6052ee899a8f979"
  },
  {
   "metadata": {
    "ExecuteTime": {
     "end_time": "2025-10-07T07:33:49.083210Z",
     "start_time": "2025-10-07T07:33:49.057453Z"
    }
   },
   "cell_type": "code",
   "source": "est_5 = n / np.sum(1 / theta_hat)",
   "id": "bc1623a45e0644ac",
   "outputs": [],
   "execution_count": 85
  },
  {
   "metadata": {
    "ExecuteTime": {
     "end_time": "2025-10-07T07:36:48.045055Z",
     "start_time": "2025-10-07T07:36:48.040410Z"
    }
   },
   "cell_type": "code",
   "source": "est_6 = np.cbrt(np.sum(theta_hat ** 3) / n)",
   "id": "3edcaf892ef78fe0",
   "outputs": [],
   "execution_count": 92
  },
  {
   "metadata": {
    "ExecuteTime": {
     "end_time": "2025-10-07T07:45:37.783209Z",
     "start_time": "2025-10-07T07:45:37.767265Z"
    }
   },
   "cell_type": "code",
   "source": "est_7 = np.power(np.sum(theta_hat ** 5) / n, 1/5)\n",
   "id": "f8ea2e71c89fbf3b",
   "outputs": [],
   "execution_count": 102
  },
  {
   "metadata": {
    "ExecuteTime": {
     "end_time": "2025-10-07T07:52:12.284227Z",
     "start_time": "2025-10-07T07:51:47.978597Z"
    }
   },
   "cell_type": "code",
   "source": [
    "res = []\n",
    "for _ in range(1000):\n",
    "    theta_hat = norm.rvs(theta, sigma, n)\n",
    "    est_1 = theta_hat.mean()\n",
    "\n",
    "    est_2 = np.median(theta_hat)\n",
    "\n",
    "    weights_3 = weights_unbiased_3 / weights_unbiased_3.sum()\n",
    "    est_3 = 0\n",
    "    for i in range(n):\n",
    "        est_3 += weights_3[i] * theta_hat[i]\n",
    "\n",
    "    theta_hat_sorted = np.sort(theta_hat)\n",
    "    weights_4 = [weight_4_gen(i) for i in range(1, n + 1)]\n",
    "    est_4 = 0\n",
    "    for i in range(n):\n",
    "        est_4 += theta_hat_sorted[i] * weights_4[i]\n",
    "\n",
    "    est_5 = n / np.sum(1 / theta_hat)\n",
    "\n",
    "    est_6 = np.cbrt(np.sum(theta_hat ** 3) / n)\n",
    "\n",
    "    est_7 = np.power(np.sum(theta_hat ** 2) / n, 2)\n",
    "\n",
    "\n",
    "    res.append([est_1, est_2, est_3, est_4, est_5, est_6, est_7])\n"
   ],
   "id": "d144de647d776514",
   "outputs": [],
   "execution_count": 115
  },
  {
   "metadata": {
    "ExecuteTime": {
     "end_time": "2025-10-07T07:53:38.086230Z",
     "start_time": "2025-10-07T07:53:38.050544Z"
    }
   },
   "cell_type": "code",
   "source": "res_df = pd.DataFrame(res, columns=['1', '2', '3', '4', '5', '6', '7'])",
   "id": "e934ad28ccf5c9f6",
   "outputs": [],
   "execution_count": 121
  },
  {
   "metadata": {
    "ExecuteTime": {
     "end_time": "2025-10-07T07:53:38.483381Z",
     "start_time": "2025-10-07T07:53:38.385487Z"
    }
   },
   "cell_type": "code",
   "source": "res_df",
   "id": "b112f459eb1307b8",
   "outputs": [
    {
     "data": {
      "text/plain": [
       "            1         2         3         4         5         6         7\n",
       "0   -0.188434 -0.158418 -0.116094  0.883934  0.028323 -0.660000  0.696340\n",
       "1   -0.132034 -0.379192 -0.016331  0.822141  0.502726 -0.328441  0.515392\n",
       "2   -0.037780  0.028027 -0.064683  0.894971 -0.032143 -0.571046  0.669042\n",
       "3   -0.000405 -0.000590 -0.014342  0.830206  0.059747 -0.253760  0.512106\n",
       "4   -0.223235 -0.186488 -0.192342  1.037115  0.428700 -0.965537  1.357643\n",
       "..        ...       ...       ...       ...       ...       ...       ...\n",
       "995  0.083439 -0.031457 -0.049250  0.917030  1.542742  0.722657  0.748000\n",
       "996  0.058912  0.131762  0.002317  0.747203  0.429133  0.304444  0.326959\n",
       "997 -0.127188 -0.081738 -0.180765  0.903786 -0.551329 -0.845152  0.724091\n",
       "998 -0.104466 -0.057548 -0.079324  1.048631  2.089273 -0.760376  1.294113\n",
       "999 -0.054754 -0.050934  0.091879  0.865526 -0.586088 -0.746621  0.593371\n",
       "\n",
       "[1000 rows x 7 columns]"
      ],
      "text/html": [
       "<div>\n",
       "<style scoped>\n",
       "    .dataframe tbody tr th:only-of-type {\n",
       "        vertical-align: middle;\n",
       "    }\n",
       "\n",
       "    .dataframe tbody tr th {\n",
       "        vertical-align: top;\n",
       "    }\n",
       "\n",
       "    .dataframe thead th {\n",
       "        text-align: right;\n",
       "    }\n",
       "</style>\n",
       "<table border=\"1\" class=\"dataframe\">\n",
       "  <thead>\n",
       "    <tr style=\"text-align: right;\">\n",
       "      <th></th>\n",
       "      <th>1</th>\n",
       "      <th>2</th>\n",
       "      <th>3</th>\n",
       "      <th>4</th>\n",
       "      <th>5</th>\n",
       "      <th>6</th>\n",
       "      <th>7</th>\n",
       "    </tr>\n",
       "  </thead>\n",
       "  <tbody>\n",
       "    <tr>\n",
       "      <th>0</th>\n",
       "      <td>-0.188434</td>\n",
       "      <td>-0.158418</td>\n",
       "      <td>-0.116094</td>\n",
       "      <td>0.883934</td>\n",
       "      <td>0.028323</td>\n",
       "      <td>-0.660000</td>\n",
       "      <td>0.696340</td>\n",
       "    </tr>\n",
       "    <tr>\n",
       "      <th>1</th>\n",
       "      <td>-0.132034</td>\n",
       "      <td>-0.379192</td>\n",
       "      <td>-0.016331</td>\n",
       "      <td>0.822141</td>\n",
       "      <td>0.502726</td>\n",
       "      <td>-0.328441</td>\n",
       "      <td>0.515392</td>\n",
       "    </tr>\n",
       "    <tr>\n",
       "      <th>2</th>\n",
       "      <td>-0.037780</td>\n",
       "      <td>0.028027</td>\n",
       "      <td>-0.064683</td>\n",
       "      <td>0.894971</td>\n",
       "      <td>-0.032143</td>\n",
       "      <td>-0.571046</td>\n",
       "      <td>0.669042</td>\n",
       "    </tr>\n",
       "    <tr>\n",
       "      <th>3</th>\n",
       "      <td>-0.000405</td>\n",
       "      <td>-0.000590</td>\n",
       "      <td>-0.014342</td>\n",
       "      <td>0.830206</td>\n",
       "      <td>0.059747</td>\n",
       "      <td>-0.253760</td>\n",
       "      <td>0.512106</td>\n",
       "    </tr>\n",
       "    <tr>\n",
       "      <th>4</th>\n",
       "      <td>-0.223235</td>\n",
       "      <td>-0.186488</td>\n",
       "      <td>-0.192342</td>\n",
       "      <td>1.037115</td>\n",
       "      <td>0.428700</td>\n",
       "      <td>-0.965537</td>\n",
       "      <td>1.357643</td>\n",
       "    </tr>\n",
       "    <tr>\n",
       "      <th>...</th>\n",
       "      <td>...</td>\n",
       "      <td>...</td>\n",
       "      <td>...</td>\n",
       "      <td>...</td>\n",
       "      <td>...</td>\n",
       "      <td>...</td>\n",
       "      <td>...</td>\n",
       "    </tr>\n",
       "    <tr>\n",
       "      <th>995</th>\n",
       "      <td>0.083439</td>\n",
       "      <td>-0.031457</td>\n",
       "      <td>-0.049250</td>\n",
       "      <td>0.917030</td>\n",
       "      <td>1.542742</td>\n",
       "      <td>0.722657</td>\n",
       "      <td>0.748000</td>\n",
       "    </tr>\n",
       "    <tr>\n",
       "      <th>996</th>\n",
       "      <td>0.058912</td>\n",
       "      <td>0.131762</td>\n",
       "      <td>0.002317</td>\n",
       "      <td>0.747203</td>\n",
       "      <td>0.429133</td>\n",
       "      <td>0.304444</td>\n",
       "      <td>0.326959</td>\n",
       "    </tr>\n",
       "    <tr>\n",
       "      <th>997</th>\n",
       "      <td>-0.127188</td>\n",
       "      <td>-0.081738</td>\n",
       "      <td>-0.180765</td>\n",
       "      <td>0.903786</td>\n",
       "      <td>-0.551329</td>\n",
       "      <td>-0.845152</td>\n",
       "      <td>0.724091</td>\n",
       "    </tr>\n",
       "    <tr>\n",
       "      <th>998</th>\n",
       "      <td>-0.104466</td>\n",
       "      <td>-0.057548</td>\n",
       "      <td>-0.079324</td>\n",
       "      <td>1.048631</td>\n",
       "      <td>2.089273</td>\n",
       "      <td>-0.760376</td>\n",
       "      <td>1.294113</td>\n",
       "    </tr>\n",
       "    <tr>\n",
       "      <th>999</th>\n",
       "      <td>-0.054754</td>\n",
       "      <td>-0.050934</td>\n",
       "      <td>0.091879</td>\n",
       "      <td>0.865526</td>\n",
       "      <td>-0.586088</td>\n",
       "      <td>-0.746621</td>\n",
       "      <td>0.593371</td>\n",
       "    </tr>\n",
       "  </tbody>\n",
       "</table>\n",
       "<p>1000 rows × 7 columns</p>\n",
       "</div>"
      ]
     },
     "execution_count": 122,
     "metadata": {},
     "output_type": "execute_result"
    }
   ],
   "execution_count": 122
  },
  {
   "metadata": {
    "ExecuteTime": {
     "end_time": "2025-10-07T07:53:39.137898Z",
     "start_time": "2025-10-07T07:53:38.742358Z"
    }
   },
   "cell_type": "code",
   "source": [
    "plt.boxplot(res_df)\n",
    "plt.show()"
   ],
   "id": "57d70fc1150d89e3",
   "outputs": [
    {
     "data": {
      "text/plain": [
       "<Figure size 640x480 with 1 Axes>"
      ],
      "image/png": "[encoded data removed]"
     },
     "metadata": {},
     "output_type": "display_data",
     "jetTransient": {
      "display_id": null
     }
    }
   ],
   "execution_count": 123
  },
  {
   "metadata": {
    "ExecuteTime": {
     "end_time": "2025-10-07T07:53:39.628127Z",
     "start_time": "2025-10-07T07:53:39.370236Z"
    }
   },
   "cell_type": "code",
   "source": [
    "dropped_5_df = res_df.drop('5', axis=1)\n",
    "plt.boxplot(dropped_5_df)\n",
    "plt.show()"
   ],
   "id": "9c5b19c42756c773",
   "outputs": [
    {
     "data": {
      "text/plain": [
       "<Figure size 640x480 with 1 Axes>"
      ],
      "image/png": "[encoded data removed]"
     },
     "metadata": {},
     "output_type": "display_data",
     "jetTransient": {
      "display_id": null
     }
    }
   ],
   "execution_count": 124
  },
  {
   "metadata": {
    "ExecuteTime": {
     "end_time": "2025-10-07T07:56:17.933802Z",
     "start_time": "2025-10-07T07:56:17.927690Z"
    }
   },
   "cell_type": "code",
   "source": "# 4 estymator powininen byc kolo 0",
   "id": "af7a81707dbafab7",
   "outputs": [],
   "execution_count": 127
  },
  {
   "metadata": {},
   "cell_type": "code",
   "outputs": [],
   "execution_count": null,
   "source": "# do zrobienia do konca to zadanie",
   "id": "bd65885c9888d1b8"
  }
 ],
 "metadata": {
  "kernelspec": {
   "display_name": "Python 3",
   "language": "python",
   "name": "python3"
  },
  "language_info": {
   "codemirror_mode": {
    "name": "ipython",
    "version": 2
   },
   "file_extension": ".py",
   "mimetype": "text/x-python",
   "name": "python",
   "nbconvert_exporter": "python",
   "pygments_lexer": "ipython2",
   "version": "2.7.6"
  }
 },
 "nbformat": 4,
 "nbformat_minor": 5
}
