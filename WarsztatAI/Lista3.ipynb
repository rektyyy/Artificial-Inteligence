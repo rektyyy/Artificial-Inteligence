{
  "cells": [
    {
      "cell_type": "markdown",
      "metadata": {
        "id": "Ze3A_Lz1fqnL"
      },
      "source": [
        "# Lista 3\n",
        "\n",
        "## Numpy zaawansowane\n",
        "\n",
        "(8pkt + 3pkt)\n",
        "\n",
        "Na liście znajduje się 8 zadań do wykonania w trakcie zajęć. Po rozwiązaniu zadania pokaż kod prowadzącemu i odpowiedz na **pytanie kontrolne** — tylko wtedy przyznajemy punkty. Dodatkowo prześlij zadanie na platformie skos.\n",
        "\n",
        "Jeśli w poleceniu nie jest wskazane użycie pętli `for` - nie korzystaj z niej.\n",
        "\n",
        "Zadania dodatkowe są oznaczone ⭐️. To zadani o numerach 9, 10, 11 i 12. Punkty zostaną przyznane tylko za rozwiązania z 3 zadań. Rozwiąż te, które najbardziej Ci się podobają.\n",
        "\n",
        "Każde zadnanie warte jest 1pkt."
      ]
    },
    {
      "cell_type": "markdown",
      "metadata": {
        "id": "_NeNEQ7tfqnP"
      },
      "source": [
        "## 1. Analiza fragmentów sygnału (slicing)\n",
        "\n",
        "**Kontekst:**\n",
        "Masz dane z czujnika EEG zapisane w tablicy `eeg_data` o wymiarach `(1000, 5, 3)` – 1000 próbek, dla 5 pacjentów, a każda próbka ma 3 kanały.\n",
        "Chcesz przeanalizować wybrane fragmenty sygnału.\n",
        "\n",
        "**Polecenie**\n",
        "\n",
        "* Wybierz pierwsze 200 próbek – interesuje Cię początek nagrania.\n",
        "* Wybierz tylko sygnał nr 1.\n",
        "* Chcesz sprawdzić trend dla jednego z pacjentów. Dla pacjenta nr 3, z kanału nr 2 wybierz co piątą próbkę.\n",
        "* Wybierz wyniki dla co 2 dnia i pacjentów o nieparzystych numerach.\n",
        "\n",
        "**Podpowiedź**\n",
        "Użyj slicingów `:`, `::`."
      ]
    },
    {
      "cell_type": "code",
      "execution_count": null,
      "metadata": {
        "colab": {
          "base_uri": "https://localhost:8080/"
        },
        "id": "IQtVCAKofqnQ",
        "outputId": "986dd847-393e-418f-c212-4aa67567dd3f"
      },
      "outputs": [
        {
          "output_type": "stream",
          "name": "stdout",
          "text": [
            "1. Pierwsze 200 próbek: (200, 5, 3)\n",
            "2. Sygnał nr 1: (1000, 5)\n",
            "3. Trend pacjenta nr 3, kanał nr 2: (200,)\n",
            "4. Co 2 dzień i nieparzyści pacjenci: (500, 3, 3)\n"
          ]
        }
      ],
      "source": [
        "import numpy as np\n",
        "\n",
        "eeg_data = np.random.rand(1000, 5, 3)\n",
        "\n",
        "# 1. pierwsze 200 próbek\n",
        "part1 = eeg_data[:200]# Uzupełnij eeg_data[...]\n",
        "\n",
        "# 2. tylko sygnał nr 1 (czyli kanał nr 0, zakładając indeksowanie od 0)\n",
        "signal1 = eeg_data[:, :, 0] # Uzupełnij eeg_data[...]\n",
        "\n",
        "# 3. dla pacjenta nr 3, kanał nr 2, co piąta próbka\n",
        "trend_p3_ch2 = eeg_data[::5, 2, 1] # Uzupełnij eeg_data[...]\n",
        "\n",
        "# 4. wyniki dla co 2 dnia i pacjentów o nieparzystych numerach (1, 3, 5 → czyli indeksy 0, 2, 4)\n",
        "subset = eeg_data[::2, ::2, :] # Uzupełnij eeg_data[...]\n",
        "\n",
        "print(\"1. Pierwsze 200 próbek:\", part1.shape)\n",
        "print(\"2. Sygnał nr 1:\", signal1.shape)\n",
        "print(\"3. Trend pacjenta nr 3, kanał nr 2:\", trend_p3_ch2.shape)\n",
        "print(\"4. Co 2 dzień i nieparzyści pacjenci:\", subset.shape)"
      ]
    },
    {
      "cell_type": "markdown",
      "metadata": {
        "id": "Fjm0JhUKfqnS"
      },
      "source": [
        "## 2. Statystyki aktywności modelu (operacje po osiach)\n",
        "\n",
        "**Kontekst:**\n",
        "Masz dane `activations` o wymiarach `(3, 500)` – trzy neurony w warstwie modelu, zarejestrowane przez 500 kroków czasowych.\n",
        "Chcesz zbadać ich zachowanie w czasie.\n",
        "\n",
        "**Polecenie**\n",
        "\n",
        "* Oblicz średnią aktywność każdego neuronu w czasie.\n",
        "* Oblicz średnią aktywność w każdym kroku czasowym.\n",
        "* Znajdź neuron o najwyższej średniej aktywności – który z trzech był najbardziej „aktywny”?\n",
        "\n",
        "**Wskazówka:** Przydadzą się `np.mean()` i argument `axis`, oraz `np.argmax()`."
      ]
    },
    {
      "cell_type": "code",
      "execution_count": null,
      "metadata": {
        "colab": {
          "base_uri": "https://localhost:8080/"
        },
        "id": "YZf7OnOefqnU",
        "outputId": "3cfd1560-dd28-41bc-aae1-d116503671c7"
      },
      "outputs": [
        {
          "output_type": "stream",
          "name": "stdout",
          "text": [
            "1. Średnia aktywność neuronów: [0.49085106 0.50510305 0.5031132 ]\n",
            "2. Średnia aktywność w krokach czasowych: [0.45247957 0.24014352 0.2787462  0.29163427 0.47349373 0.45501883]\n",
            "3. Najbardziej aktywny neuron: 473\n"
          ]
        }
      ],
      "source": [
        "activations = np.random.rand(3, 500)\n",
        "\n",
        "# 1. średnia aktywność każdego neuronu\n",
        "mean_per_neuron = np.mean(activations, axis=1)\n",
        "\n",
        "# 2. średnia aktywność w każdym kroku czasowym\n",
        "mean_per_step = np.mean(activations, axis=0)\n",
        "\n",
        "# 3. neuron o najwyższej średniej aktywności\n",
        "most_active_neuron = np.argmax(mean_per_step)\n",
        "\n",
        "print(\"1. Średnia aktywność neuronów:\", mean_per_neuron)\n",
        "print(\"2. Średnia aktywność w krokach czasowych:\", mean_per_step[:6])  # pokazujemy tylko kilka\n",
        "print(\"3. Najbardziej aktywny neuron:\", most_active_neuron)"
      ]
    },
    {
      "cell_type": "markdown",
      "metadata": {
        "id": "WZ8FIMP0fqnV"
      },
      "source": [
        "## 3. Podział szeregu czasowego (array_split)\n",
        "\n",
        "**Kontekst:**\n",
        "Chcesz przygotować dane do uczenia modelu, który trenuje się na krótszych fragmentach sygnału.\n",
        "\n",
        "**Polecenie**\n",
        "\n",
        "Masz daną tablicę `signal = np.arange(100)`. Uywając `np.array_split`:\n",
        "\n",
        "* Podziel dane na 5 równych fragmentów (czyli po 20 próbek w każdym).\n",
        "* Podziel dane tak, aby pierwszy zawierał próbki `[:30]`, drugi `[30:70]`, a trzeci `[70:]`.\n",
        "* Podziel dane na dwie części, tak żeby pierwszy fragment zawierał próbki `[:60]`, a drugi `[60:]`."
      ]
    },
    {
      "cell_type": "code",
      "execution_count": null,
      "metadata": {
        "colab": {
          "base_uri": "https://localhost:8080/"
        },
        "id": "NIao82SYfqnW",
        "outputId": "d77cf5b8-4ed3-4207-bf56-0f0f1c4d1fff"
      },
      "outputs": [
        {
          "output_type": "stream",
          "name": "stdout",
          "text": [
            "1. 5 równych fragmentów: [(20,), (20,), (20,), (20,), (20,)]\n",
            "2. Podział [0:30], [30:70], [70:]: [(30,), (40,), (30,)]\n",
            "3. Podział [0:60], [60:]: [(60,), (40,)]\n"
          ]
        }
      ],
      "source": [
        "signal = np.arange(100)\n",
        "\n",
        "# 1. 5 równych fragmentów\n",
        "parts_equal = np.array_split(signal, 5)\n",
        "\n",
        "# 2. podział wg konkretnych granic\n",
        "parts_custom = np.array_split(signal, [30, 70])\n",
        "\n",
        "# 3. podział na dwie części ([:60], [60:])\n",
        "parts_two = np.array_split(signal, [60])\n",
        "\n",
        "# wypisz rozmiary\n",
        "print(\"1. 5 równych fragmentów:\", [p.shape for p in parts_equal])\n",
        "print(\"2. Podział [0:30], [30:70], [70:]:\", [p.shape for p in parts_custom])\n",
        "print(\"3. Podział [0:60], [60:]:\", [p.shape for p in parts_two])"
      ]
    },
    {
      "cell_type": "markdown",
      "metadata": {
        "id": "VqOsIcj6fqnX"
      },
      "source": [
        "## 4. Funkcje uniwersalne (ufuncs)\n",
        "\n",
        "**Kontekst:**\n",
        "Masz dane wejściowe `x` – 200 próbek w zakresie od -3 do 3.\n",
        "Chcesz policzyć aktywacje typowe dla sieci neuronowych.\n",
        "\n",
        "**Polecenie:**\n",
        "\n",
        "* Wygeneruj `x = np.linspace(-3, 3, 200)`.\n",
        "* Oblicz `sigmoid = 1 / (1 + exp(-x))`.\n",
        "* Oblicz `relu = max(0, x)`.\n",
        "* Porównaj średnie wartości tych funkcji."
      ]
    },
    {
      "cell_type": "code",
      "execution_count": null,
      "metadata": {
        "colab": {
          "base_uri": "https://localhost:8080/"
        },
        "id": "483vOY63fqnY",
        "outputId": "d4e89d20-4da6-4392-f3b9-02d1c83a2ffd"
      },
      "outputs": [
        {
          "output_type": "stream",
          "name": "stdout",
          "text": [
            "Średnia sigmoid: 0.5\n",
            "Średnia ReLU: 0.7537688442211055\n"
          ]
        }
      ],
      "source": [
        "x = np.linspace(-3, 3, 200)\n",
        "\n",
        "sigmoid = 1 / (1 + np.exp(-x))\n",
        "relu = np.maximum(0, x)\n",
        "\n",
        "print(\"Średnia sigmoid:\", np.mean(sigmoid))\n",
        "print(\"Średnia ReLU:\", np.mean(relu))"
      ]
    },
    {
      "cell_type": "markdown",
      "metadata": {
        "id": "_e26N42lfqnZ"
      },
      "source": [
        "## 5. Sortowanie i unikalne wartości\n",
        "\n",
        "**Kontekst:**\n",
        "Masz wektor `scores` z wynikami modelu klasyfikującego 100 obserwacji.\n",
        "Chcesz zobaczyć, które próbki miały najwyższe wyniki i jakie unikalne klasy się pojawiły.\n",
        "\n",
        "**Polecenie:**\n",
        "\n",
        "* Wygeneruj losowe `scores` (np. `np.random.rand(100)`).\n",
        "* Posortuj `scores` rosnąco.\n",
        "* Zwróć **indeksy** sortowania (czyli w jakiej kolejności należy wziąć próbki).\n",
        "* Wygeneruj losowy wektor `labels` z wartościami z zakresu `[0, 3]`.\n",
        "* Wypisz unikalne etykiety i ich liczność.\n",
        "\n",
        "**Podpowiedź:**\n",
        "`np.sort`, `np.argsort`, `np.unique(..., return_counts=True)`"
      ]
    },
    {
      "cell_type": "code",
      "execution_count": null,
      "metadata": {
        "colab": {
          "base_uri": "https://localhost:8080/"
        },
        "id": "EZRdAX4tfqna",
        "outputId": "4fb2ad64-8e4b-4194-b17e-d53f76e0b531"
      },
      "outputs": [
        {
          "output_type": "stream",
          "name": "stdout",
          "text": [
            "Posortowane wyniki: [0.00106341 0.02215139 0.04034928 0.04507079 0.04808363] ...\n",
            "Indeksy sortowania: [19 67  2 76 44]\n",
            "Unikalne etykiety: [0 1 2 3]\n",
            "Liczność: [25 20 26 29]\n"
          ]
        }
      ],
      "source": [
        "# dane\n",
        "scores = np.random.rand(100)\n",
        "labels = np.random.randint(0, 4, size=100)\n",
        "\n",
        "# sortowanie\n",
        "sorted_scores = np.sort(scores)\n",
        "sorted_idx = np.argsort(scores)\n",
        "\n",
        "# unikalne wartości\n",
        "unique_labels, counts = np.unique(labels, return_counts=True)\n",
        "\n",
        "print(\"Posortowane wyniki:\", sorted_scores[:5], \"...\")\n",
        "print(\"Indeksy sortowania:\", sorted_idx[:5])\n",
        "print(\"Unikalne etykiety:\", unique_labels)\n",
        "print(\"Liczność:\", counts)"
      ]
    },
    {
      "cell_type": "markdown",
      "metadata": {
        "id": "HS759b81fqnc"
      },
      "source": [
        "## 6. Łączenie i dzielenie tablic\n",
        "\n",
        "**Kontekst:**\n",
        "Masz dane z dwóch sensorów `sensor_A` i `sensor_B`, każdy po 100 próbek.\n",
        "Chcesz stworzyć jedną tablicę cech oraz przetestować różne sposoby łączenia.\n",
        "\n",
        "**Polecenie:**\n",
        "\n",
        "* Wygeneruj dane `sensor_A` i `sensor_B` (np. `np.random.randn(100)`).\n",
        "* Połącz dane wzdłuż nowej osi.\n",
        "* Połącz dane wzdłuż istniejącej osi.\n",
        "* Sprawdź wymiary obu wyników.\n",
        "\n",
        "**Podpowiedź** `np.concatenate`, `np.stack`"
      ]
    },
    {
      "cell_type": "code",
      "execution_count": null,
      "metadata": {
        "colab": {
          "base_uri": "https://localhost:8080/"
        },
        "id": "laVghO8Nfqnd",
        "outputId": "20259ca6-6989-4278-ff5a-315eb423048a"
      },
      "outputs": [
        {
          "output_type": "stream",
          "name": "stdout",
          "text": [
            "stacked shape: (2, 100)\n",
            "concatenated shape: (200,)\n"
          ]
        }
      ],
      "source": [
        "sensor_A = np.random.randn(100)\n",
        "sensor_B = np.random.randn(100)\n",
        "\n",
        "# łączenie po nowej osi (powstaje tablica 2 x 100)\n",
        "stacked = np.stack([sensor_A, sensor_B])\n",
        "\n",
        "# łączenie po istniejącej osi (powstaje wektor 200-elementowy)\n",
        "concatenated = np.concatenate([sensor_A, sensor_B])\n",
        "\n",
        "print(\"stacked shape:\", stacked.shape)\n",
        "print(\"concatenated shape:\", concatenated.shape)"
      ]
    },
    {
      "cell_type": "markdown",
      "metadata": {
        "id": "ajSGSL_nfqne"
      },
      "source": [
        "## 7. Maski i filtrowanie danych (`numpy.ma`)\n",
        "\n",
        "**Kontekst:**\n",
        "Masz dane `loss_values` z treningu modelu (np. z 200 epok).\n",
        "Chcesz sprawdzić, w których momentach **strata spadła poniżej 0.1**, i wygodnie pracować tylko z tymi fragmentami — używając **masked arrays** (`numpy.ma`), które pozwalają ukryć niechciane wartości bez ich usuwania z tablicy.\n",
        "\n",
        "**Polecenie:**\n",
        "\n",
        "* Ustaw random seed.\n",
        "* Wygeneruj `loss_values` – malejący wykres strat (np. `np.linspace(1, 0, 200) + np.random.normal(0, 0.05, 200)`).\n",
        "* Utwórz **masked array**, która ukryje wartości większe lub równe `0.1`.\n",
        "* Wyświetl tylko wartości, które **nie są zamaskowane**.\n",
        "* Policz, w ilu epokach model osiągnął niski błąd (`loss < 0.1`).\n",
        "* Oblicz średnią z „dobrych” epok, ignorując zamaskowane dane.\n",
        "\n",
        "**Podpowiedź:**\n",
        "\n",
        "Użyj: `ma.masked_greater_equal`\n"
      ]
    },
    {
      "cell_type": "code",
      "execution_count": null,
      "metadata": {
        "colab": {
          "base_uri": "https://localhost:8080/"
        },
        "id": "9N4KSHGZfqne",
        "outputId": "ec19811a-3133-4b7b-c75f-58231b60f8b3"
      },
      "outputs": [
        {
          "output_type": "stream",
          "name": "stdout",
          "text": [
            "Wartości z niskim błędem: [0.09935643 0.05728588 0.06851195 0.0157407  0.06907347]\n",
            "Liczba epok z niskim błędem: 22\n",
            "Średnia strata (dla niskich wartości): 0.0452\n"
          ]
        }
      ],
      "source": [
        "import numpy as np\n",
        "import numpy.ma as ma\n",
        "\n",
        "# dane\n",
        "\n",
        "# Ustaw random seed\n",
        "np.random.seed(23)\n",
        "# Uzupłnij\n",
        "loss_values = np.linspace(1, 0, 200) + np.random.normal(0, 0.05, 200)\n",
        "\n",
        "# tworzymy masked array – maskujemy wszystkie wartości >= 0.1\n",
        "loss_masked = ma.masked_greater_equal(loss_values, 0.1)\n",
        "\n",
        "# wyświetlamy kilka niezamaskowanych wartości\n",
        "print(\"Wartości z niskim błędem:\", loss_masked.compressed()[:5])\n",
        "\n",
        "# liczymy, ile epok miało stratę poniżej 0.1\n",
        "n_low_loss = loss_masked.count()\n",
        "print(\"Liczba epok z niskim błędem:\", n_low_loss)\n",
        "\n",
        "# obliczamy średnią tylko z niezamaskowanych danych\n",
        "avg_low_loss = loss_masked.mean()\n",
        "print(\"Średnia strata (dla niskich wartości):\", round(avg_low_loss, 4))"
      ]
    },
    {
      "cell_type": "markdown",
      "metadata": {
        "id": "G8EljjB3fqnf"
      },
      "source": [
        "## 8. Stride tricks\n",
        "\n",
        "**Kontekst:**\n",
        "Podczas trenowania modeli w *computer vision* w celu optymalizacji złożoności modelu obrazy dzieli się na mniejsze fragmenty (np. do uczenia na patchach).\n",
        "\n",
        "**Polecenie:**\n",
        "\n",
        "Masz obraz o wymiarach **3 × 1000** (obraz czarno-biały o wymiarach 3x1000).\n",
        "\n",
        "* Wygeneruj dane losowe (np. `np.random.rand(3, 1000)`).\n",
        "* Użyj `numpy.lib.stride_tricks.sliding_window_view`, by stworzyć macierz okien, tak żeby obrazy nachodziły na siebie co 10 próbek.\n",
        "* Sprawdź wymiary wynikowej tablicy. Ile masz okien?\n",
        "\n",
        "**Podpowiedź:** Rozwiązanie powinno być postaci `sliding_window_view(image, window_shape=rozmiar_okna, axis=...)[::krok]`"
      ]
    },
    {
      "cell_type": "code",
      "execution_count": null,
      "metadata": {
        "colab": {
          "base_uri": "https://localhost:8080/"
        },
        "id": "c6ioSze8fqng",
        "outputId": "03feddc6-c904-4ab8-afbe-ce7b12a4af9c"
      },
      "outputs": [
        {
          "output_type": "stream",
          "name": "stdout",
          "text": [
            "(3, 1000)\n",
            "Wymiary wynikowej tablicy: (1, 901, 100)\n",
            "Liczba okien: 901\n"
          ]
        }
      ],
      "source": [
        "import numpy as np\n",
        "from numpy.lib.stride_tricks import sliding_window_view\n",
        "\n",
        "# dane wejściowe\n",
        "image = np.random.rand(3, 1000)\n",
        "\n",
        "# okna o długości 100 pikseli, przesuwane co 10\n",
        "windows = sliding_window_view(image, window_shape=100, axis=1)[::10]\n",
        "\n",
        "print(image.shape)\n",
        "print(\"Wymiary wynikowej tablicy:\", windows.shape)\n",
        "print(\"Liczba okien:\", windows.shape[1])"
      ]
    },
    {
      "cell_type": "markdown",
      "metadata": {
        "id": "6m36e2nlfqnh"
      },
      "source": [
        "## ⭐️ 9. Normalizacja niestandardowa\n",
        "\n",
        "Utwórz `X` o wymiarach `(100, 10)` – 100 obserwacji, 10 cech o różnych zakresach, z zakresu [-100, 100].\n",
        "Znormalizuj każdą kolumnę **do przedziału od min do max, ale tylko dla wartości dodatnich**.\n",
        "Wartości ujemne mają pozostać niezmienione.\n",
        "\n",
        "**Polecenie:**\n",
        "\n",
        "* Wygeneruj dane `X` z rozkładu normalnego (`np.random.randn(100, 10)`).\n",
        "* Utwórz maskę `mask = X > 0`.\n",
        "* Zastosuj broadcastowanie, aby znormalizować każdą kolumnę:\n",
        "\n",
        "  ```python\n",
        "  X_norm = (X - X.min(axis=0)) / (X.max(axis=0) - X.min(axis=0))\n",
        "  ```\n",
        "* Nałóż maskę tak, aby wartości `≤ 0` w oryginale nie były zmieniane.\n",
        "\n",
        "**Podpowiedź:**\n",
        "Użyj `np.where`."
      ]
    },
    {
      "cell_type": "code",
      "execution_count": null,
      "metadata": {
        "id": "IWcKbiSUfqni"
      },
      "outputs": [],
      "source": []
    },
    {
      "cell_type": "markdown",
      "metadata": {
        "id": "076HWO2-fqni"
      },
      "source": [
        "## ⭐️ 10. Macierz odległości Euklidesowych w przestrzeni 1000D\n",
        "\n",
        "Oblicz odległości pomiędzy punktami w bardzo wysokowymiarowej przestrzeni – np. przy analizie embeddingów w modelach językowych.\n",
        "\n",
        "**Polecenie:**\n",
        "\n",
        "* Wygeneruj **10 000 punktów w przestrzeni 1000-wymiarowej** (`np.random.rand(10_000, 1000)`).\n",
        "* Używając **broadcastingu**, oblicz macierz odległości Euklidesowych między wszystkimi parami punktów.\n",
        "* Zmierz czas wykonania tej operacji.\n",
        "* Porównaj z implementacją opartą o trzy zagnieżdżone pętle (`for`).\n",
        "\n",
        "‼ Jeśli twój kod dla 3 pętli będzie trwał dłużej niż 2min - przerwij i wypisz odpowiedni komunikat."
      ]
    },
    {
      "cell_type": "code",
      "execution_count": null,
      "metadata": {
        "id": "dEEQrCVVfqnj"
      },
      "outputs": [],
      "source": []
    },
    {
      "cell_type": "markdown",
      "metadata": {
        "id": "ZyEQBE1cfqnj"
      },
      "source": [
        "## ⭐️ 11. Stride tricks – zamiana kwadrantów tablicy\n",
        "\n",
        "Stwórz dwuwymiarową tablicę. **Zamień miejscami górny prawy i dolny lewy kwadrant**, używając tylko `numpy` i `stride_tricks`, bez kopiowania danych.\n",
        "\n",
        "**Polecenie:**\n",
        "\n",
        "* Utwórz tablicę `A = np.arange(16).reshape(4, 4)` (dla prostoty).\n",
        "* Za pomocą `stride_tricks` (np. `as_strided`) lub sprytnego indeksowania stwórz nowy widok tablicy. Twoje rozwiązanie powinno być postaci: `stride_tricks.as_strided(...).reshape(...)`\n",
        "\n",
        "![task](./Images/ex_np_as_strided.png)\n"
      ]
    },
    {
      "cell_type": "code",
      "execution_count": null,
      "metadata": {
        "id": "uUSpxV5Vfqnk"
      },
      "outputs": [],
      "source": []
    },
    {
      "cell_type": "markdown",
      "metadata": {
        "id": "CnAx7H2Sfqnl"
      },
      "source": [
        "## ⭐️ 12. Maskowanie warunkowe w macierzach i analiza różnic\n",
        "\n",
        "**Kontekst:**\n",
        "Masz dwie macierze wyników modeli `A` i `B` `(1000, 10)`.\n",
        "Chcesz policzyć różnice i średnie, **ignorując**:\n",
        "\n",
        "* wszystkie pozycje, w których `A` lub `B` mają NaN,\n",
        "* wartości ekstremalne (>95 percentyl każdej kolumny),\n",
        "* wartości ujemne w obu macierzach **jednocześnie**.\n",
        "\n",
        "**Polecenie:**\n",
        "\n",
        "1. Wygeneruj `A` i `B` z losowego rozkładu i wprowadź kilka `NaN`.\n",
        "2. Utwórz maskę, która jednocześnie:\n",
        "\n",
        "   * maskuje NaN (`masked_invalid`),\n",
        "   * maskuje wartości > 95 percentyl (`masked_greater`),\n",
        "   * maskuje pozycje, gdzie `A < 0 & B < 0` (`masked_where` z `logical_and`).\n",
        "3. Stwórz masked array, która będzie  `diff = |A-B|` z utworzoną powyżej maską.\n",
        "4. Policz średnią i wariancję różnic macierzy `diff`, ignorując zamaskowane wartości.\n",
        "5. Zastąp zamaskowane wartości średnią kolumnową.\n",
        "\n",
        "**Podpowiedź**\n",
        "\n",
        "Z biblioteki `numpy.ma` mogą się przydać:\n",
        "`masked_invalid`, `masked_greater`, `masked_where`, `mask_or`, `mean`, `var`, `filled`.\n",
        "\n",
        "Z biblioteki `numpy` przydadzą się: `np.percentile`, `np.logical_and`."
      ]
    },
    {
      "cell_type": "code",
      "execution_count": null,
      "metadata": {
        "id": "gJAzWlfnfqnm"
      },
      "outputs": [],
      "source": []
    }
  ],
  "metadata": {
    "kernelspec": {
      "display_name": "Python 3.6 (tensorflow)",
      "language": "python",
      "name": "tensorflow"
    },
    "language_info": {
      "codemirror_mode": {
        "name": "ipython",
        "version": 3
      },
      "file_extension": ".py",
      "mimetype": "text/x-python",
      "name": "python",
      "nbconvert_exporter": "python",
      "pygments_lexer": "ipython3",
      "version": "3.11.0"
    },
    "colab": {
      "provenance": [],
      "generative_ai_disabled": true
    }
  },
  "nbformat": 4,
  "nbformat_minor": 0
}