{
  "cells": [
    {
      "cell_type": "markdown",
      "metadata": {
        "id": "view-in-github",
        "colab_type": "text"
      },
      "source": [
        "<a href=\"https://colab.research.google.com/github/rektyyy/Artificial-Inteligence/blob/main/WarsztatAI/Lista2.ipynb\" target=\"_parent\"><img src=\"https://colab.research.google.com/assets/colab-badge.svg\" alt=\"Open In Colab\"/></a>"
      ]
    },
    {
      "cell_type": "markdown",
      "metadata": {
        "id": "-tJLeNTyboyx"
      },
      "source": [
        "dodaj info o 1pkt za zrobienie na prawdziwym obrazku.\n",
        "popraw zadania o copy"
      ]
    },
    {
      "cell_type": "markdown",
      "metadata": {
        "id": "3TSpAvYnboy6"
      },
      "source": [
        "# Lista 2\n",
        "\n",
        "## Numpy podstawy\n",
        "\n",
        "(9pkt + 3pkt)\n",
        "\n",
        "Na liście znajduje się 9 zadań do wykonania w trakcie zajęć. Po rozwiązaniu zadania pokaż kod prowadzącemu i odpowiedz na **pytanie kontrolne** (są one podane przy każdym zadaniu) — wtedy przyznajemy punkt. Dodatkowo prześlij zadanie na platformie skos.\n",
        "\n",
        "Jeśli w poleceniu nie jest wskazane użycie pętli `for` - nie korzystaj z niej.\n",
        "\n",
        "Zadania dodatkowe są oznaczone ⭐️. To zadani o numerach 10 i 11. Dodatkowo moeżesz otrzymać 1pkt z puli punktów bonusowych jeśli wykonasz wszystkie poniższe zadania związane z obrazami na prawdziwym obrazku.\n",
        "\n",
        "Kazde zadnanie warte jest 1pkt."
      ]
    },
    {
      "cell_type": "markdown",
      "metadata": {
        "id": "Dt-1coNpboy9"
      },
      "source": [
        "## 1. Analiza pikseli obrazu\n",
        "\n",
        "**Kontekst:** W AI obrazy to tablice NumPy (np. `H×W×C`). Proste operacje na obrazach można robić wektorowo bez pętli.\n",
        "\n",
        "**Polecenie**\n",
        "\n",
        "* Utwórz przykładową tablicę 3×3 obrazu RGB zawierającą wartości 0–255.\n",
        "* Zwiększ jasność o 10% — ale **nie przekraczaj 255** (`np.clip`).\n",
        "* Pokaż wynik i typ danych.\n",
        "\n",
        "**Podpowiedź**\n",
        "Zwiększ jasność obrazu mnożąc każde pasmo RGB przez 110%."
      ]
    },
    {
      "cell_type": "code",
      "execution_count": null,
      "metadata": {
        "colab": {
          "base_uri": "https://localhost:8080/"
        },
        "id": "THKROd3JbozA",
        "outputId": "613cd13b-e812-4864-8237-ef95a57d1b76"
      },
      "outputs": [
        {
          "output_type": "stream",
          "name": "stdout",
          "text": [
            "Oryginał:\n",
            " [[[189   4 200]\n",
            "  [  8 243 222]\n",
            "  [ 13 214   7]]\n",
            "\n",
            " [[172  13 202]\n",
            "  [137 149  66]\n",
            "  [199  57  79]]\n",
            "\n",
            " [[ 30 242 107]\n",
            "  [ 85  80 125]\n",
            "  [248 157  40]]]\n",
            "Po zwiększeniu jasności o 10%:\n",
            " [[[207.9   4.4 220. ]\n",
            "  [  8.8 255.  244.2]\n",
            "  [ 14.3 235.4   7.7]]\n",
            "\n",
            " [[189.2  14.3 222.2]\n",
            "  [150.7 163.9  72.6]\n",
            "  [218.9  62.7  86.9]]\n",
            "\n",
            " [[ 33.  255.  117.7]\n",
            "  [ 93.5  88.  137.5]\n",
            "  [255.  172.7  44. ]]]\n"
          ]
        }
      ],
      "source": [
        "import numpy as np\n",
        "\n",
        "A = np.random.randint(0, 256, size=(3, 3, 3))\n",
        "\n",
        "bright = np.clip(A * 1.10, 0, 255)\n",
        "\n",
        "print(\"Oryginał:\\n\", A)\n",
        "print(\"Po zwiększeniu jasności o 10%:\\n\", bright)"
      ]
    },
    {
      "cell_type": "markdown",
      "metadata": {
        "id": "JAalV7ptbozD"
      },
      "source": [
        "## 2. Normalizacja danych wejściowych\n",
        "\n",
        "**Kontekst:** Dane wejściowe do modeli zazwyczaj normujemy — albo do `[0,1]`, albo standaryzujemy do średniej 0 i odchylenia 1.\n",
        "\n",
        "**Polecenie**\n",
        "\n",
        "* Wygeneruj 1D tablicę 100 losowych liczb w przedziale `0..255`.\n",
        "* Przeskaluj na `[0,1]`.\n",
        "* Następnie stwórz znormalizowaną wersję z średnią 0 i odchyleniem 1 (standaryzacja).\n",
        "* Nie używaj pętli.\n",
        "\n",
        "**Pytanie kontrolne:** Co się stanie, gdy `std == 0`?"
      ]
    },
    {
      "cell_type": "code",
      "execution_count": null,
      "metadata": {
        "colab": {
          "base_uri": "https://localhost:8080/"
        },
        "id": "R-AOk4m2bozF",
        "outputId": "d15ef9e3-20f4-46fb-eebf-1dfd93769909"
      },
      "outputs": [
        {
          "output_type": "stream",
          "name": "stdout",
          "text": [
            "mean scaled: 0.5118823529411765\n",
            "mean standardized: 5.440092820663267e-17\n",
            "std standardized: 1.0\n"
          ]
        }
      ],
      "source": [
        "import numpy as np\n",
        "\n",
        "x = np.random.randint(0, 256, 100)\n",
        "\n",
        "# skalowanie do [0,1]\n",
        "x_scaled = x / 255\n",
        "\n",
        "# standaryzacja: (x - mean)/std\n",
        "mean = x_scaled.mean()\n",
        "std = x_scaled.std()\n",
        "x_standardized = (x_scaled - mean) / std\n",
        "\n",
        "print(\"mean scaled:\", mean)\n",
        "print(\"mean standardized:\", x_standardized.mean())\n",
        "print(\"std standardized:\", x_standardized.std())"
      ]
    },
    {
      "cell_type": "markdown",
      "metadata": {
        "id": "gY--rrBhbozH"
      },
      "source": [
        "## 3. Wycinanie fragmentów danych\n",
        "\n",
        "**Kontekst:** Często dzielimy długi sygnał na krótsze okna (np. do ekstrakcji cech).\n",
        "\n",
        "**Polecenie**\n",
        "\n",
        "* Stwórz 1D tablicę długości 1000 (np. `np.arange(1000)`).\n",
        "* Podziel ją na 10 fragmentów po 100 elementów (`reshape`).\n",
        "* Oblicz średnią każdego fragmentu (wektor 10-elementowy).\n",
        "\n",
        "**Pytanie kontrolne:** Co policzymy jeśli obliczymy `axis=0`?"
      ]
    },
    {
      "cell_type": "code",
      "execution_count": null,
      "metadata": {
        "colab": {
          "base_uri": "https://localhost:8080/"
        },
        "id": "V6_DbV1IbozI",
        "outputId": "80d9bc8c-72d1-41a3-9163-51d4becc392a"
      },
      "outputs": [
        {
          "output_type": "stream",
          "name": "stdout",
          "text": [
            "shape chunks: (10, 100)\n",
            "means: [ 49.5 149.5 249.5 349.5 449.5 549.5 649.5 749.5 849.5 949.5]\n"
          ]
        }
      ],
      "source": [
        "import numpy as np\n",
        "\n",
        "x = np.arange(1000)\n",
        "chunks = x.reshape((10, 100)) # shape (10,100)\n",
        "means = chunks.mean(axis=1)   # średnia wzdłuż kolumn -> 10 wartości\n",
        "\n",
        "print(\"shape chunks:\", chunks.shape)\n",
        "print(\"means:\", means)"
      ]
    },
    {
      "cell_type": "markdown",
      "metadata": {
        "id": "DujaRlVpbozK"
      },
      "source": [
        "## 4. Operacje wzdłuż osi\n",
        "\n",
        "**Kontekst:** Przy normalizacjach i agregacjach często operujemy wzdłuż konkretnej osi.\n",
        "\n",
        "**Polecenie**\n",
        "\n",
        "* Utwórz `X = np.random.randint(0, 100, (5,4))`.\n",
        "* Oblicz:\n",
        "\n",
        "  * min każdego wiersza używając `X.min(...)`\n",
        "  * max każdej kolumny używając `X.max(...)`\n",
        "* Znormalizuj każdy wiersz tak, aby suma elementów w wierszu była równa 1. Sprawdź poprawność rozwiązania sumując wartości w każdym wierszu."
      ]
    },
    {
      "cell_type": "code",
      "execution_count": null,
      "metadata": {
        "colab": {
          "base_uri": "https://localhost:8080/"
        },
        "id": "5y61O-n6bozM",
        "outputId": "e2beaab1-594a-4d58-b0d8-573e169f73e0"
      },
      "outputs": [
        {
          "output_type": "stream",
          "name": "stdout",
          "text": [
            "X:\n",
            " [[50 68 21  8]\n",
            " [23 66 27 69]\n",
            " [18 37  2 27]\n",
            " [26 66 11  9]\n",
            " [ 2 17 53 35]]\n",
            "row_mins: [ 8 23  2  9  2]\n",
            "col_maxs: [50 68 53 69]\n",
            "X_norm (suma wiersza): [1. 1. 1. 1. 1.]\n"
          ]
        }
      ],
      "source": [
        "import numpy as np\n",
        "\n",
        "X = np.random.randint(0, 100, (5, 4))\n",
        "\n",
        "row_mins = X.min(axis=1)\n",
        "col_maxs = X.max(axis=0)\n",
        "\n",
        "# normalizacja wierszy do sumy 1\n",
        "row_sums = X.sum(axis=1, keepdims=True)  # shape (5,1) - jakiego parametru trzeba użyć?\n",
        "X_norm = X / row_sums\n",
        "\n",
        "print(\"X:\\n\", X)\n",
        "print(\"row_mins:\", row_mins)\n",
        "print(\"col_maxs:\", col_maxs)\n",
        "print(\"X_norm (suma wiersza):\", X_norm.sum(axis=1))"
      ]
    },
    {
      "cell_type": "markdown",
      "metadata": {
        "id": "4efjcF6abozO"
      },
      "source": [
        "## 5. Analiza embeddingów słów\n",
        "\n",
        "**Kontekst:** W NLP słowa reprezentujemy wektorami (embeddingi). Często chcemy średnią reprezentację zdania i podobieństwo kosinusowe.\n",
        "\n",
        "**Polecenie**\n",
        "\n",
        "* Stwórz macierz `E` o kształcie `(5,50)` — 5 embeddingów po 50 wymiarów (`np.random.randn`).\n",
        "* Oblicz:\n",
        "\n",
        "  * `mean_embedding` (średni wektor po wierszach)\n",
        "  * macierz podobieństw kosinusowych między wszystkimi parami wektorów (5×5)\n",
        "\n",
        "**Pytanie kontrolne:** Jak interpretujesz wartości w `cosine_sim` (zakres i znaczenie)?\n",
        "\n",
        "---\n",
        "\n",
        "### Wskazówka\n",
        "\n",
        "Zastanów się, jak można obliczyć **podobieństwo kosinusowe** dwóch wektorów `a` i `b`, jeśli wiesz, że:\n",
        "\n",
        "$$\n",
        "\\cos(\\theta) = \\frac{a \\cdot b}{|a| \\cdot |b|}\n",
        "$$\n",
        "\n",
        "Spróbuj najpierw policzyć to dla jednej pary wektorów w NumPy,\n",
        "używając `np.dot()` i `np.linalg.norm()`.\n",
        "\n",
        "A następnie pomyśl:\n",
        "\n",
        "* Jak znormalizować wszystkie wektory jednocześnie, żeby każdy miał długość 1?\n",
        "* Jak wykorzystać mnożenie macierzy (`@`), żeby w jednym kroku dostać podobieństwa między wszystkimi parami wektorów (5×5)?"
      ]
    },
    {
      "cell_type": "code",
      "execution_count": null,
      "metadata": {
        "colab": {
          "base_uri": "https://localhost:8080/"
        },
        "id": "xeVM5nNkbozQ",
        "outputId": "2390a835-e3b0-4d56-89dc-3c5ccb56bf61"
      },
      "outputs": [
        {
          "output_type": "stream",
          "name": "stdout",
          "text": [
            "mean_embedding shape: (50,)\n",
            "cosine_sim shape: (5, 5)\n",
            "cosine_sim (przykład):\n",
            " [[ 1.00000000e+00  1.10991266e-02  9.81479673e-02 -6.15968066e-04\n",
            "   2.02550599e-01]\n",
            " [ 1.10991266e-02  1.00000000e+00  3.83308017e-02 -1.46431847e-01\n",
            "   1.92687953e-02]\n",
            " [ 9.81479673e-02  3.83308017e-02  1.00000000e+00 -3.55297785e-01\n",
            "   5.53982922e-02]\n",
            " [-6.15968066e-04 -1.46431847e-01 -3.55297785e-01  1.00000000e+00\n",
            "   1.08573275e-01]\n",
            " [ 2.02550599e-01  1.92687953e-02  5.53982922e-02  1.08573275e-01\n",
            "   1.00000000e+00]]\n"
          ]
        }
      ],
      "source": [
        "import numpy as np\n",
        "\n",
        "E = np.random.randn(5, 50)\n",
        "\n",
        "# średni wektor (embedding zdania)\n",
        "mean_embedding = E.mean(axis=0)\n",
        "\n",
        "# normalizacja wektorów do długości 1\n",
        "norms = np.linalg.norm(E, axis=1, keepdims=True)\n",
        "E_normalized = E / norms\n",
        "\n",
        "# macierz podobieństw kosinusowych = E_norm @ E_norm.T\n",
        "cosine_sim = E_normalized @ E_normalized.T\n",
        "\n",
        "print(\"mean_embedding shape:\", mean_embedding.shape)\n",
        "print(\"cosine_sim shape:\", cosine_sim.shape)\n",
        "print(\"cosine_sim (przykład):\\n\", cosine_sim)"
      ]
    },
    {
      "cell_type": "markdown",
      "metadata": {
        "id": "xr2QNU39bozR"
      },
      "source": [
        "## 6. Sklejanie sensorów — dane z pojazdu autonomicznego\n",
        "\n",
        "**Kontekst:** Dane z różnych sensorów różnią się formatem — trzeba je połączyć w jedną macierz cech.\n",
        "\n",
        "**Polecenie**\n",
        "\n",
        "* Stwórz:\n",
        "\n",
        "  ```python\n",
        "  lidar = np.random.rand(100, 2)   # x,y # lidar - Light Detection and Ranging\n",
        "  camera = np.random.rand(100, 1)  # jasność\n",
        "  radar = np.random.rand(100, 1)   # prędkość\n",
        "  ```\n",
        "* Połącz je kolumnowo w macierz `X` o kształcie `(100,4)`.\n",
        "* Podziel `X` na `train` (80%) i `test` (20%) (np. `np.array_split` lub indeksowanie).\n",
        "* Oblicz średnią jasność i średnią prędkość dla obu zestawów.\n",
        "\n",
        "**Pytanie kontrolne:** Dlaczego warto przetasować dane (shuffle) przed splitem w prawdziwym pipeline?"
      ]
    },
    {
      "cell_type": "code",
      "execution_count": null,
      "metadata": {
        "colab": {
          "base_uri": "https://localhost:8080/"
        },
        "id": "72fmX_EWbozS",
        "outputId": "ecf8d9bd-4885-4910-968c-61cb9e7a023c"
      },
      "outputs": [
        {
          "output_type": "stream",
          "name": "stdout",
          "text": [
            "X.shape: (100, 4)\n",
            "train/test shapes: (80, 4) (20, 4)\n",
            "mean camera train/test: 0.4979756272875943 0.4328998934890057\n",
            "mean radar train/test: 0.5023572109683373 0.5222199695372245\n"
          ]
        }
      ],
      "source": [
        "import numpy as np\n",
        "\n",
        "lidar = np.random.rand(100, 2)   # x,y\n",
        "camera = np.random.rand(100, 1)  # jasność\n",
        "radar = np.random.rand(100, 1)   # prędkość\n",
        "\n",
        "X = np.hstack([lidar, camera, radar])\n",
        "assert X.shape == (100, 4)\n",
        "\n",
        "# split train/test (bez shuffle dla prostoty)\n",
        "n_train = int(X.shape[0] * 0.8)\n",
        "train, test = np.array_split(X, [n_train])\n",
        "\n",
        "# indeksy kolumn: camera -> 2, radar -> 3 (0-based)\n",
        "mean_camera_train = train[:, 2].mean()\n",
        "mean_radar_train = train[:, 3].mean()\n",
        "mean_camera_test = test[:, 2].mean()\n",
        "mean_radar_test = test[:, 3].mean()\n",
        "\n",
        "print(\"X.shape:\", X.shape)\n",
        "print(\"train/test shapes:\", train.shape, test.shape)\n",
        "print(\"mean camera train/test:\", mean_camera_train, mean_camera_test)\n",
        "print(\"mean radar train/test:\", mean_radar_train, mean_radar_test)"
      ]
    },
    {
      "cell_type": "markdown",
      "metadata": {
        "id": "7tQX1rY9bozT"
      },
      "source": [
        "## 7. NumPy vs. czysty Python\n",
        "\n",
        "**Kontekst:** NumPy działa o wiele szybciej niż pętle Pythonowe dla operacji numerycznych. Tu wykorzystamy `np.linspace`.\n",
        "\n",
        "**Polecenie**\n",
        "\n",
        "* Stwórz `x = np.linspace(0, 1, 10_000_000)`.\n",
        "* Oblicz `s = sin(x)**2 + cos(x)**2`:\n",
        "\n",
        "  * a) w czystym Pythonie (pętla `for` i `math.sin`, `math.cos`)\n",
        "  * b) w NumPy (`np.sin`, `np.cos` — wektoryzacja)\n",
        "* Porównaj czasy wykonania (wskazane: `%timeit` w notebooku lub `time.time()`)."
      ]
    },
    {
      "cell_type": "code",
      "execution_count": null,
      "metadata": {
        "colab": {
          "base_uri": "https://localhost:8080/"
        },
        "id": "YAptblxYbozT",
        "outputId": "09bacb3d-7956-4bfb-81e0-b885115a9bc7"
      },
      "outputs": [
        {
          "output_type": "stream",
          "name": "stdout",
          "text": [
            "NumPy time: 0.281s\n",
            "Pure Python loop time: 5.447s\n"
          ]
        }
      ],
      "source": [
        "import numpy as np\n",
        "import math\n",
        "import time\n",
        "\n",
        "# dane\n",
        "x = np.linspace(0, 1, 10_000_000)\n",
        "\n",
        "# NumPy version\n",
        "t0 = time.time()\n",
        "y_np = np.sin(x) ** 2 + np.cos(x) ** 2\n",
        "t_np = time.time() - t0\n",
        "\n",
        "# Python loop version (bardzo wolne; uruchamiaj ostrożnie; jak trwa dłuej ni 15s, to przerwij i zmniejsz przykład)\n",
        "t0 = time.time()\n",
        "s = 0.0\n",
        "for xi in x:\n",
        "    s += math.sin(xi) ** 2 + math.cos(xi) ** 2\n",
        "t_py = time.time() - t0\n",
        "\n",
        "print(f\"NumPy time: {t_np:.3f}s\")\n",
        "print(f\"Pure Python loop time: {t_py:.3f}s\")"
      ]
    },
    {
      "cell_type": "markdown",
      "metadata": {
        "id": "fr3taxXhbozU"
      },
      "source": [
        "## 8. Copy, View\n",
        "\n",
        "**Kontekst:** Podczas preprocessingu zespoły czasami pracują na tym samym obiekcie myśląc, że mają kopię — to prowadzi do skażenia danych.\n",
        "\n",
        "**Polecenie**\n",
        "\n",
        "* Stwórz `patients = np.random.randint(60, 120, (5, 4))`.\n",
        "  * `doctors_view`, gdzie doktor będzie przeglądał tylko co drugi pomiar,\n",
        "  * `research_copy`, czyli kopię patients.\n",
        "* Lekarz przez pomyłkę wykona `doctors_view[:] = -1`.\n",
        "* Sprawdź, czy `patients` się zmieniło i czy `research_copy` pozostało bez zmian. Wyjaśnij.\n",
        "\n",
        "**Pytanie kontrolne:** W jaki sposób zabezpieczyć workflow, żeby przypadkowe zmiany nie wpływały na bazę danych?"
      ]
    },
    {
      "cell_type": "code",
      "execution_count": null,
      "metadata": {
        "colab": {
          "base_uri": "https://localhost:8080/"
        },
        "id": "UBO_7O2RbozV",
        "outputId": "fe47dfe3-0876-46b2-de50-9529d3123dc9"
      },
      "outputs": [
        {
          "output_type": "stream",
          "name": "stdout",
          "text": [
            "przed zmiana:\n",
            " [[ 70 103  85 107]\n",
            " [ 62  96  91  87]\n",
            " [ 77 118  95  89]\n",
            " [ 97  80 108 111]\n",
            " [ 74  83  86 112]]\n",
            "po zmianie doctors_view:\n",
            " [[ -1 103  -1 107]\n",
            " [ -1  96  -1  87]\n",
            " [ -1 118  -1  89]\n",
            " [ -1  80  -1 111]\n",
            " [ -1  83  -1 112]]\n",
            "research_copy (czy zmienione?):\n",
            " [[ 70 103  85 107]\n",
            " [ 62  96  91  87]\n",
            " [ 77 118  95  89]\n",
            " [ 97  80 108 111]\n",
            " [ 74  83  86 112]]\n",
            "doctors_view.base is patients? True\n",
            "research_copy.base is patients? False\n"
          ]
        }
      ],
      "source": [
        "import numpy as np\n",
        "\n",
        "patients = np.random.randint(60, 120, (5, 4))\n",
        "doctors_view = patients[:, ::2]\n",
        "research_copy = patients.copy()\n",
        "\n",
        "print(\"przed zmiana:\\n\", patients)\n",
        "doctors_view[:] = -1\n",
        "print(\"po zmianie doctors_view:\\n\", patients)\n",
        "print(\"research_copy (czy zmienione?):\\n\", research_copy)\n",
        "\n",
        "# wykrywamy, które są view / copy\n",
        "print(\"doctors_view.base is patients?\", doctors_view.base is patients)\n",
        "print(\"research_copy.base is patients?\", research_copy.base is patients)"
      ]
    },
    {
      "cell_type": "markdown",
      "metadata": {
        "id": "254C2BfibozW"
      },
      "source": [
        "## 9. Jak CNN „przesuwa okno” po obrazie?\n",
        "\n",
        "**Kontekst:** W konwolucyjnej sieci neuronowej filtr (np. 3×3) „przesuwa się” po obrazie piksel po pikselu. Parametr stride określa, o ile pikseli filtr przesuwa się w pamięci między kolejnymi pozycjami. Zrozumienie, jak numpy.strides działa, pozwala intuicyjnie pojąć, dlaczego operacja konwolucji może być wydajna bez kopiowania danych.\n",
        "\n",
        "**Polecenie**\n",
        "\n",
        "1. Utwórz: `A = np.arange(1,13).reshape(3,4)` — traktuj jako obraz `3 × 4`, oraz `AT = A.T`.\n",
        "2. Wypisz: `A`, `A.strides`, `AT`, `AT.strides`.\n",
        "3. Oblicz ile bajtów trzeba przeskoczyć, aby dotrzeć:\n",
        "   * od `A[0,0]` do `A[0,1]`,\n",
        "   * od `A[0,0]` do `A[1,0]`.\n",
        "4. Sprawdź, czy `AT` jest widokiem (`AT.base is A`), zmień `A[0,0] = -99` i sprawdź `AT`.\n",
        "5. Napisz funkcję `memory_offset(A, i, j)`, która obliczy ile bajtów trzeba przejść od `A[0][0]` do miejsca `A[i][j]`\n",
        "   Użyj jej, żeby policzyć offsety kilku elementów w `A` i `A.T`. Zinterpretuj wyniki.\n",
        "\n",
        "**Pytanie kontrolne:** Wyjaśnij własnymi słowami: co się stanie jak zmienisz `strides`?"
      ]
    },
    {
      "cell_type": "code",
      "execution_count": null,
      "metadata": {
        "colab": {
          "base_uri": "https://localhost:8080/"
        },
        "id": "6cr5tqfEbozW",
        "outputId": "077f3313-1cd9-4f05-cad6-c3bb8dcdaeeb"
      },
      "outputs": [
        {
          "output_type": "stream",
          "name": "stdout",
          "text": [
            "A:\n",
            " [[ 1  2  3  4]\n",
            " [ 5  6  7  8]\n",
            " [ 9 10 11 12]]\n",
            "A.strides: (32, 8)\n",
            "AT:\n",
            " [[ 1  5  9]\n",
            " [ 2  6 10]\n",
            " [ 3  7 11]\n",
            " [ 4  8 12]]\n",
            "AT.strides: (8, 32)\n",
            "itemsize (bajtów per element): 8\n",
            "offset A[0,0] -> A[0,1] (bajtów): 8\n",
            "offset A[0,0] -> A[1,0] (bajtów): 32\n",
            "A.T.base is A ? False\n",
            "A po zmianie:\n",
            " [[-99   2   3   4]\n",
            " [  5   6   7   8]\n",
            " [  9  10  11  12]]\n",
            "A.T po zmianie:\n",
            " [[-99   5   9]\n",
            " [  2   6  10]\n",
            " [  3   7  11]\n",
            " [  4   8  12]]\n",
            "memory offset A[2,3]: 88\n",
            "memory offset AT[2,3]: 112\n"
          ]
        }
      ],
      "source": [
        "import numpy as np\n",
        "\n",
        "A = np.arange(1, 13).reshape(3, 4)\n",
        "print(\"A:\\n\", A)\n",
        "print(\"A.strides:\", A.strides)\n",
        "\n",
        "AT = A.T\n",
        "print(\"AT:\\n\", AT)\n",
        "print(\"AT.strides:\", AT.strides)\n",
        "\n",
        "# elementsize (liczba bajtów na element)\n",
        "bs = A.itemsize\n",
        "print(\"itemsize (bajtów per element):\", bs)\n",
        "\n",
        "# obliczenia ręczne:\n",
        "offset_A_00_to_01 = bs\n",
        "offset_A_00_to_10 = A.shape[1] * bs\n",
        "print(\"offset A[0,0] -> A[0,1] (bajtów):\", offset_A_00_to_01)\n",
        "print(\"offset A[0,0] -> A[1,0] (bajtów):\", offset_A_00_to_10)\n",
        "\n",
        "# sprawdzenie widoku\n",
        "print(\"A.T.base is A ?\", AT.base is A)\n",
        "\n",
        "# zmiana A i obserwacja AT\n",
        "A[0,0] = -99\n",
        "print(\"A po zmianie:\\n\", A)\n",
        "print(\"A.T po zmianie:\\n\", AT)\n",
        "\n",
        "# funkcja memory_offset\n",
        "def memory_offset(M, i, j):\n",
        "    return M.strides[0] * i + M.strides[1] * j\n",
        "\n",
        "print(\"memory offset A[2,3]:\", memory_offset(A, 2, 3))\n",
        "print(\"memory offset AT[2,3]:\", memory_offset(AT, 2, 3))"
      ]
    },
    {
      "cell_type": "markdown",
      "metadata": {
        "id": "OUvSmkqvbozX"
      },
      "source": [
        "## 10. ⭐️ Zaawansowana augmentacja i analiza obrazów RGB\n",
        "\n",
        "**Kontekst:** Przy trenowaniu CNN operujemy na obrazach RGB. Często robimy augmentacje (jasność, kontrast, rotacje, przesunięcia) i porównujemy obrazy np. za pomocą **cosine similarity**. Trzeba uważać, które operacje zwracają **widok**, a które **kopię**, aby nie psuć danych przez przypadek.\n",
        "\n",
        "**Polecenie**\n",
        "\n",
        "1. Wygeneruj **10 losowych obrazów RGB**, każdy o wymiarach `32×32×3` z wartościami `uint8` (0–255).\n",
        "2. Napisz funkcję `cosine_similarity(img1, img2)`, która oblicza podobieństwo kosinusowe między dwoma obrazami traktowanymi jako wektory.\n",
        "3. Stwórz funkcję `augment(img)` która tworzy warianty obrazu:\n",
        "\n",
        "   * oryginał,\n",
        "   * flip poziomy,\n",
        "   * flip pionowy,\n",
        "   * rotacja 90°,\n",
        "   * jaśniejsza wersja,\n",
        "   * wersja z większym kontrastem,\n",
        "   * mały przesunięty fragment (crop + pad),\n",
        "   * zamiana kanałów RGB na BGR.\n",
        "4. Dla każdego wariantu sprawdź, które są **widokiem**, a które **kopią** (`.base`).\n",
        "5. Oblicz macierz podobieństwa kosinusowego między wszystkimi 10 obrazami oryginalnymi i wypisz średnie podobieństwo.\n",
        "6. Oblicz podobieństwo między oryginałami a ich wariantami i sprawdź, które operacje najbardziej zmieniają obraz (najmniejsze cosine similarity).   "
      ]
    },
    {
      "cell_type": "code",
      "execution_count": null,
      "metadata": {
        "id": "oVjA_3MobozY"
      },
      "outputs": [],
      "source": [
        "# Uzupełnij"
      ]
    },
    {
      "cell_type": "markdown",
      "metadata": {
        "id": "t0MrI7BGbozY"
      },
      "source": [
        "## 11. ⭐️ Świadome kopiowanie\n",
        "\n",
        "**Kontekst**\n",
        "Pracujesz z dużymi macierzami w Pythonie/NumPy, które reprezentują np. wyniki eksperymentów, symulacje lub dane użytkowników.\n",
        "\n",
        "**Polecenie**\n",
        "Twoim zadaniem jest zdecydować w jaki sposób należy **modyfikować dane**, w miejscu, w kopii, czy wystarczy widok? A może trzeba użyć deepcopy? Rozważ dwa przypadki - kiedy używasz biblioteki `numpy` i `copy`. Odpowiedz na wszystkie pytania. W każdej części musisz **uzasadnić wybór metody**.\n",
        "\n",
        "Na początku stwórz dwuwymiarową tablicę `M`, na której będziesz demonstrować i uzasadniać użycie wybranej metody.\n",
        "\n",
        "#### **a) Lokalna korekta**\n",
        "\n",
        "Wartość w komórce `[0,0]` jest błędna i powinna być `1`.\n",
        "\n",
        "* Jak poprawisz tę wartość?\n",
        "* Czy zmieniasz oryginał, czy tworzysz kopię?\n",
        "* Jak działa pamięć w tym przypadku?\n",
        "\n",
        "#### **b) Alternatywna wersja danych**\n",
        "\n",
        "Chcesz stworzyć **zmodyfikowaną wersję danych**, np. w kolumnie 2 przeskalować wszystkie wartości, w celu przeprowadzenia eksperymentu.\n",
        "\n",
        "* Zastanów się, czy potrzebujesz `view`, `copy` czy `deepcopy`.\n",
        "* Przetestuj różne podejścia (`M.view()`, `M.copy()`) i sprawdź, co się dzieje po modyfikacji nowej macierzy.\n",
        "\n",
        "#### **c) Symulacje z listą zagnieżdżoną**\n",
        "\n",
        "Tworzysz listę eksperymentów:\n",
        "\n",
        "```python\n",
        "L = [M, M.copy()]\n",
        "```\n",
        "\n",
        "Teraz chcesz **przeprowadzić symulacje zmian**, np. dodając losowe wartości, **bez zmiany oryginału** ani kopii w `L`.\n",
        "\n",
        "* Jakiego rodzaju kopiowania użyjesz?\n",
        "* Co się stanie, jeśli użyjesz tylko `copy` zamiast `deepcopy`, gdy struktura jest zagnieżdżona?\n",
        "\n",
        "#### **d) Podzbiór kolumn**\n",
        "\n",
        "Wybierasz podzbiór kolumn np. 1 i 3:\n",
        "\n",
        "```python\n",
        "subset = M[:, [1, 3]]\n",
        "```\n",
        "\n",
        "* Sprawdź, czy zmiany w `subset` wpływają na `M`.\n",
        "* Porównaj to z cięciem typu `subset = M[:, 1:3]`."
      ]
    }
  ],
  "metadata": {
    "kernelspec": {
      "display_name": "Python 3.6 (tensorflow)",
      "language": "python",
      "name": "tensorflow"
    },
    "language_info": {
      "codemirror_mode": {
        "name": "ipython",
        "version": 3
      },
      "file_extension": ".py",
      "mimetype": "text/x-python",
      "name": "python",
      "nbconvert_exporter": "python",
      "pygments_lexer": "ipython3",
      "version": "3.11.0"
    },
    "colab": {
      "provenance": [],
      "generative_ai_disabled": true,
      "include_colab_link": true
    }
  },
  "nbformat": 4,
  "nbformat_minor": 0
}