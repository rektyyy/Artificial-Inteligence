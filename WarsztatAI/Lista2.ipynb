{
  "cells": [
    {
      "cell_type": "markdown",
      "metadata": {
        "id": "view-in-github",
        "colab_type": "text"
      },
      "source": [
        "<a href=\"https://colab.research.google.com/github/rektyyy/Artificial-Inteligence/blob/main/WarsztatAI/Lista2.ipynb\" target=\"_parent\"><img src=\"https://colab.research.google.com/assets/colab-badge.svg\" alt=\"Open In Colab\"/></a>"
      ]
    },
    {
      "cell_type": "markdown",
      "metadata": {
        "id": "-tJLeNTyboyx"
      },
      "source": [
        "dodaj info o 1pkt za zrobienie na prawdziwym obrazku.\n",
        "popraw zadania o copy"
      ]
    },
    {
      "cell_type": "markdown",
      "metadata": {
        "id": "3TSpAvYnboy6"
      },
      "source": [
        "# Lista 2\n",
        "\n",
        "## Numpy podstawy\n",
        "\n",
        "(9pkt + 3pkt)\n",
        "\n",
        "Na liście znajduje się 9 zadań do wykonania w trakcie zajęć. Po rozwiązaniu zadania pokaż kod prowadzącemu i odpowiedz na **pytanie kontrolne** (są one podane przy każdym zadaniu) — wtedy przyznajemy punkt. Dodatkowo prześlij zadanie na platformie skos.\n",
        "\n",
        "Jeśli w poleceniu nie jest wskazane użycie pętli `for` - nie korzystaj z niej.\n",
        "\n",
        "Zadania dodatkowe są oznaczone ⭐️. To zadani o numerach 10 i 11. Dodatkowo moeżesz otrzymać 1pkt z puli punktów bonusowych jeśli wykonasz wszystkie poniższe zadania związane z obrazami na prawdziwym obrazku.\n",
        "\n",
        "Kazde zadnanie warte jest 1pkt."
      ]
    },
    {
      "cell_type": "markdown",
      "metadata": {
        "id": "Dt-1coNpboy9"
      },
      "source": [
        "## 1. Analiza pikseli obrazu\n",
        "\n",
        "**Kontekst:** W AI obrazy to tablice NumPy (np. `H×W×C`). Proste operacje na obrazach można robić wektorowo bez pętli.\n",
        "\n",
        "**Polecenie**\n",
        "\n",
        "* Utwórz przykładową tablicę 3×3 obrazu RGB zawierającą wartości 0–255.\n",
        "* Zwiększ jasność o 10% — ale **nie przekraczaj 255** (`np.clip`).\n",
        "* Pokaż wynik i typ danych.\n",
        "\n",
        "**Podpowiedź**\n",
        "Zwiększ jasność obrazu mnożąc każde pasmo RGB przez 110%."
      ]
    },
    {
      "cell_type": "code",
      "execution_count": 1,
      "metadata": {
        "colab": {
          "base_uri": "https://localhost:8080/"
        },
        "id": "THKROd3JbozA",
        "outputId": "8b728140-271b-48b3-c8c0-5ebeeddece07"
      },
      "outputs": [
        {
          "output_type": "stream",
          "name": "stdout",
          "text": [
            "Oryginał:\n",
            " [[[ 36  24 119]\n",
            "  [ 60  97 102]\n",
            "  [242 164 155]]\n",
            "\n",
            " [[251   3 107]\n",
            "  [124 160   8]\n",
            "  [ 90  94 101]]\n",
            "\n",
            " [[148 141  49]\n",
            "  [136 191 185]\n",
            "  [214 202 239]]]\n",
            "Po zwiększeniu jasności o 10%:\n",
            " [[[ 39.6  26.4 130.9]\n",
            "  [ 66.  106.7 112.2]\n",
            "  [255.  180.4 170.5]]\n",
            "\n",
            " [[255.    3.3 117.7]\n",
            "  [136.4 176.    8.8]\n",
            "  [ 99.  103.4 111.1]]\n",
            "\n",
            " [[162.8 155.1  53.9]\n",
            "  [149.6 210.1 203.5]\n",
            "  [235.4 222.2 255. ]]]\n"
          ]
        }
      ],
      "source": [
        "import numpy as np\n",
        "\n",
        "A = np.random.randint(0, 256, size=(3, 3, 3))\n",
        "\n",
        "bright = np.clip(A * 1.10, 0, 255)\n",
        "\n",
        "print(\"Oryginał:\\n\", A)\n",
        "print(\"Po zwiększeniu jasności o 10%:\\n\", bright)"
      ]
    },
    {
      "cell_type": "markdown",
      "metadata": {
        "id": "JAalV7ptbozD"
      },
      "source": [
        "## 2. Normalizacja danych wejściowych\n",
        "\n",
        "**Kontekst:** Dane wejściowe do modeli zazwyczaj normujemy — albo do `[0,1]`, albo standaryzujemy do średniej 0 i odchylenia 1.\n",
        "\n",
        "**Polecenie**\n",
        "\n",
        "* Wygeneruj 1D tablicę 100 losowych liczb w przedziale `0..255`.\n",
        "* Przeskaluj na `[0,1]`.\n",
        "* Następnie stwórz znormalizowaną wersję z średnią 0 i odchyleniem 1 (standaryzacja).\n",
        "* Nie używaj pętli.\n",
        "\n",
        "**Pytanie kontrolne:** Co się stanie, gdy `std == 0`?"
      ]
    },
    {
      "cell_type": "code",
      "execution_count": null,
      "metadata": {
        "colab": {
          "base_uri": "https://localhost:8080/"
        },
        "id": "R-AOk4m2bozF",
        "outputId": "d15ef9e3-20f4-46fb-eebf-1dfd93769909"
      },
      "outputs": [
        {
          "output_type": "stream",
          "name": "stdout",
          "text": [
            "mean scaled: 0.5118823529411765\n",
            "mean standardized: 5.440092820663267e-17\n",
            "std standardized: 1.0\n"
          ]
        }
      ],
      "source": [
        "import numpy as np\n",
        "\n",
        "x = np.random.randint(0, 256, 100)\n",
        "\n",
        "# skalowanie do [0,1]\n",
        "x_scaled = x / 255\n",
        "\n",
        "# standaryzacja: (x - mean)/std\n",
        "mean = x_scaled.mean()\n",
        "std = x_scaled.std()\n",
        "x_standardized = (x_scaled - mean) / std\n",
        "\n",
        "print(\"mean scaled:\", mean)\n",
        "print(\"mean standardized:\", x_standardized.mean())\n",
        "print(\"std standardized:\", x_standardized.std())"
      ]
    },
    {
      "cell_type": "markdown",
      "metadata": {
        "id": "gY--rrBhbozH"
      },
      "source": [
        "## 3. Wycinanie fragmentów danych\n",
        "\n",
        "**Kontekst:** Często dzielimy długi sygnał na krótsze okna (np. do ekstrakcji cech).\n",
        "\n",
        "**Polecenie**\n",
        "\n",
        "* Stwórz 1D tablicę długości 1000 (np. `np.arange(1000)`).\n",
        "* Podziel ją na 10 fragmentów po 100 elementów (`reshape`).\n",
        "* Oblicz średnią każdego fragmentu (wektor 10-elementowy).\n",
        "\n",
        "**Pytanie kontrolne:** Co policzymy jeśli obliczymy `axis=0`?"
      ]
    },
    {
      "cell_type": "code",
      "execution_count": null,
      "metadata": {
        "colab": {
          "base_uri": "https://localhost:8080/"
        },
        "id": "V6_DbV1IbozI",
        "outputId": "80d9bc8c-72d1-41a3-9163-51d4becc392a"
      },
      "outputs": [
        {
          "output_type": "stream",
          "name": "stdout",
          "text": [
            "shape chunks: (10, 100)\n",
            "means: [ 49.5 149.5 249.5 349.5 449.5 549.5 649.5 749.5 849.5 949.5]\n"
          ]
        }
      ],
      "source": [
        "import numpy as np\n",
        "\n",
        "x = np.arange(1000)\n",
        "chunks = x.reshape((10, 100)) # shape (10,100)\n",
        "means = chunks.mean(axis=1)   # średnia wzdłuż kolumn -> 10 wartości\n",
        "\n",
        "print(\"shape chunks:\", chunks.shape)\n",
        "print(\"means:\", means)"
      ]
    },
    {
      "cell_type": "markdown",
      "metadata": {
        "id": "DujaRlVpbozK"
      },
      "source": [
        "## 4. Operacje wzdłuż osi\n",
        "\n",
        "**Kontekst:** Przy normalizacjach i agregacjach często operujemy wzdłuż konkretnej osi.\n",
        "\n",
        "**Polecenie**\n",
        "\n",
        "* Utwórz `X = np.random.randint(0, 100, (5,4))`.\n",
        "* Oblicz:\n",
        "\n",
        "  * min każdego wiersza używając `X.min(...)`\n",
        "  * max każdej kolumny używając `X.max(...)`\n",
        "* Znormalizuj każdy wiersz tak, aby suma elementów w wierszu była równa 1. Sprawdź poprawność rozwiązania sumując wartości w każdym wierszu."
      ]
    },
    {
      "cell_type": "code",
      "execution_count": null,
      "metadata": {
        "colab": {
          "base_uri": "https://localhost:8080/"
        },
        "id": "5y61O-n6bozM",
        "outputId": "e2beaab1-594a-4d58-b0d8-573e169f73e0"
      },
      "outputs": [
        {
          "output_type": "stream",
          "name": "stdout",
          "text": [
            "X:\n",
            " [[50 68 21  8]\n",
            " [23 66 27 69]\n",
            " [18 37  2 27]\n",
            " [26 66 11  9]\n",
            " [ 2 17 53 35]]\n",
            "row_mins: [ 8 23  2  9  2]\n",
            "col_maxs: [50 68 53 69]\n",
            "X_norm (suma wiersza): [1. 1. 1. 1. 1.]\n"
          ]
        }
      ],
      "source": [
        "import numpy as np\n",
        "\n",
        "X = np.random.randint(0, 100, (5, 4))\n",
        "\n",
        "row_mins = X.min(axis=1)\n",
        "col_maxs = X.max(axis=0)\n",
        "\n",
        "# normalizacja wierszy do sumy 1\n",
        "row_sums = X.sum(axis=1, keepdims=True)  # shape (5,1) - jakiego parametru trzeba użyć?\n",
        "X_norm = X / row_sums\n",
        "\n",
        "print(\"X:\\n\", X)\n",
        "print(\"row_mins:\", row_mins)\n",
        "print(\"col_maxs:\", col_maxs)\n",
        "print(\"X_norm (suma wiersza):\", X_norm.sum(axis=1))"
      ]
    },
    {
      "cell_type": "markdown",
      "metadata": {
        "id": "4efjcF6abozO"
      },
      "source": [
        "## 5. Analiza embeddingów słów\n",
        "\n",
        "**Kontekst:** W NLP słowa reprezentujemy wektorami (embeddingi). Często chcemy średnią reprezentację zdania i podobieństwo kosinusowe.\n",
        "\n",
        "**Polecenie**\n",
        "\n",
        "* Stwórz macierz `E` o kształcie `(5,50)` — 5 embeddingów po 50 wymiarów (`np.random.randn`).\n",
        "* Oblicz:\n",
        "\n",
        "  * `mean_embedding` (średni wektor po wierszach)\n",
        "  * macierz podobieństw kosinusowych między wszystkimi parami wektorów (5×5)\n",
        "\n",
        "**Pytanie kontrolne:** Jak interpretujesz wartości w `cosine_sim` (zakres i znaczenie)?\n",
        "\n",
        "---\n",
        "\n",
        "### Wskazówka\n",
        "\n",
        "Zastanów się, jak można obliczyć **podobieństwo kosinusowe** dwóch wektorów `a` i `b`, jeśli wiesz, że:\n",
        "\n",
        "$$\n",
        "\\cos(\\theta) = \\frac{a \\cdot b}{|a| \\cdot |b|}\n",
        "$$\n",
        "\n",
        "Spróbuj najpierw policzyć to dla jednej pary wektorów w NumPy,\n",
        "używając `np.dot()` i `np.linalg.norm()`.\n",
        "\n",
        "A następnie pomyśl:\n",
        "\n",
        "* Jak znormalizować wszystkie wektory jednocześnie, żeby każdy miał długość 1?\n",
        "* Jak wykorzystać mnożenie macierzy (`@`), żeby w jednym kroku dostać podobieństwa między wszystkimi parami wektorów (5×5)?"
      ]
    },
    {
      "cell_type": "code",
      "execution_count": null,
      "metadata": {
        "colab": {
          "base_uri": "https://localhost:8080/"
        },
        "id": "xeVM5nNkbozQ",
        "outputId": "2390a835-e3b0-4d56-89dc-3c5ccb56bf61"
      },
      "outputs": [
        {
          "output_type": "stream",
          "name": "stdout",
          "text": [
            "mean_embedding shape: (50,)\n",
            "cosine_sim shape: (5, 5)\n",
            "cosine_sim (przykład):\n",
            " [[ 1.00000000e+00  1.10991266e-02  9.81479673e-02 -6.15968066e-04\n",
            "   2.02550599e-01]\n",
            " [ 1.10991266e-02  1.00000000e+00  3.83308017e-02 -1.46431847e-01\n",
            "   1.92687953e-02]\n",
            " [ 9.81479673e-02  3.83308017e-02  1.00000000e+00 -3.55297785e-01\n",
            "   5.53982922e-02]\n",
            " [-6.15968066e-04 -1.46431847e-01 -3.55297785e-01  1.00000000e+00\n",
            "   1.08573275e-01]\n",
            " [ 2.02550599e-01  1.92687953e-02  5.53982922e-02  1.08573275e-01\n",
            "   1.00000000e+00]]\n"
          ]
        }
      ],
      "source": [
        "import numpy as np\n",
        "\n",
        "E = np.random.randn(5, 50)\n",
        "\n",
        "# średni wektor (embedding zdania)\n",
        "mean_embedding = E.mean(axis=0)\n",
        "\n",
        "# normalizacja wektorów do długości 1\n",
        "norms = np.linalg.norm(E, axis=1, keepdims=True)\n",
        "E_normalized = E / norms\n",
        "\n",
        "# macierz podobieństw kosinusowych = E_norm @ E_norm.T\n",
        "cosine_sim = E_normalized @ E_normalized.T\n",
        "\n",
        "print(\"mean_embedding shape:\", mean_embedding.shape)\n",
        "print(\"cosine_sim shape:\", cosine_sim.shape)\n",
        "print(\"cosine_sim (przykład):\\n\", cosine_sim)"
      ]
    },
    {
      "cell_type": "markdown",
      "metadata": {
        "id": "xr2QNU39bozR"
      },
      "source": [
        "## 6. Sklejanie sensorów — dane z pojazdu autonomicznego\n",
        "\n",
        "**Kontekst:** Dane z różnych sensorów różnią się formatem — trzeba je połączyć w jedną macierz cech.\n",
        "\n",
        "**Polecenie**\n",
        "\n",
        "* Stwórz:\n",
        "\n",
        "  ```python\n",
        "  lidar = np.random.rand(100, 2)   # x,y # lidar - Light Detection and Ranging\n",
        "  camera = np.random.rand(100, 1)  # jasność\n",
        "  radar = np.random.rand(100, 1)   # prędkość\n",
        "  ```\n",
        "* Połącz je kolumnowo w macierz `X` o kształcie `(100,4)`.\n",
        "* Podziel `X` na `train` (80%) i `test` (20%) (np. `np.array_split` lub indeksowanie).\n",
        "* Oblicz średnią jasność i średnią prędkość dla obu zestawów.\n",
        "\n",
        "**Pytanie kontrolne:** Dlaczego warto przetasować dane (shuffle) przed splitem w prawdziwym pipeline?"
      ]
    },
    {
      "cell_type": "code",
      "execution_count": null,
      "metadata": {
        "colab": {
          "base_uri": "https://localhost:8080/"
        },
        "id": "72fmX_EWbozS",
        "outputId": "ecf8d9bd-4885-4910-968c-61cb9e7a023c"
      },
      "outputs": [
        {
          "output_type": "stream",
          "name": "stdout",
          "text": [
            "X.shape: (100, 4)\n",
            "train/test shapes: (80, 4) (20, 4)\n",
            "mean camera train/test: 0.4979756272875943 0.4328998934890057\n",
            "mean radar train/test: 0.5023572109683373 0.5222199695372245\n"
          ]
        }
      ],
      "source": [
        "import numpy as np\n",
        "\n",
        "lidar = np.random.rand(100, 2)   # x,y\n",
        "camera = np.random.rand(100, 1)  # jasność\n",
        "radar = np.random.rand(100, 1)   # prędkość\n",
        "\n",
        "X = np.hstack([lidar, camera, radar])\n",
        "assert X.shape == (100, 4)\n",
        "\n",
        "# split train/test (bez shuffle dla prostoty)\n",
        "n_train = int(X.shape[0] * 0.8)\n",
        "train, test = np.array_split(X, [n_train])\n",
        "\n",
        "# indeksy kolumn: camera -> 2, radar -> 3 (0-based)\n",
        "mean_camera_train = train[:, 2].mean()\n",
        "mean_radar_train = train[:, 3].mean()\n",
        "mean_camera_test = test[:, 2].mean()\n",
        "mean_radar_test = test[:, 3].mean()\n",
        "\n",
        "print(\"X.shape:\", X.shape)\n",
        "print(\"train/test shapes:\", train.shape, test.shape)\n",
        "print(\"mean camera train/test:\", mean_camera_train, mean_camera_test)\n",
        "print(\"mean radar train/test:\", mean_radar_train, mean_radar_test)"
      ]
    },
    {
      "cell_type": "markdown",
      "metadata": {
        "id": "7tQX1rY9bozT"
      },
      "source": [
        "## 7. NumPy vs. czysty Python\n",
        "\n",
        "**Kontekst:** NumPy działa o wiele szybciej niż pętle Pythonowe dla operacji numerycznych. Tu wykorzystamy `np.linspace`.\n",
        "\n",
        "**Polecenie**\n",
        "\n",
        "* Stwórz `x = np.linspace(0, 1, 10_000_000)`.\n",
        "* Oblicz `s = sin(x)**2 + cos(x)**2`:\n",
        "\n",
        "  * a) w czystym Pythonie (pętla `for` i `math.sin`, `math.cos`)\n",
        "  * b) w NumPy (`np.sin`, `np.cos` — wektoryzacja)\n",
        "* Porównaj czasy wykonania (wskazane: `%timeit` w notebooku lub `time.time()`)."
      ]
    },
    {
      "cell_type": "code",
      "execution_count": null,
      "metadata": {
        "colab": {
          "base_uri": "https://localhost:8080/"
        },
        "id": "YAptblxYbozT",
        "outputId": "09bacb3d-7956-4bfb-81e0-b885115a9bc7"
      },
      "outputs": [
        {
          "output_type": "stream",
          "name": "stdout",
          "text": [
            "NumPy time: 0.281s\n",
            "Pure Python loop time: 5.447s\n"
          ]
        }
      ],
      "source": [
        "import numpy as np\n",
        "import math\n",
        "import time\n",
        "\n",
        "# dane\n",
        "x = np.linspace(0, 1, 10_000_000)\n",
        "\n",
        "# NumPy version\n",
        "t0 = time.time()\n",
        "y_np = np.sin(x) ** 2 + np.cos(x) ** 2\n",
        "t_np = time.time() - t0\n",
        "\n",
        "# Python loop version (bardzo wolne; uruchamiaj ostrożnie; jak trwa dłuej ni 15s, to przerwij i zmniejsz przykład)\n",
        "t0 = time.time()\n",
        "s = 0.0\n",
        "for xi in x:\n",
        "    s += math.sin(xi) ** 2 + math.cos(xi) ** 2\n",
        "t_py = time.time() - t0\n",
        "\n",
        "print(f\"NumPy time: {t_np:.3f}s\")\n",
        "print(f\"Pure Python loop time: {t_py:.3f}s\")"
      ]
    },
    {
      "cell_type": "markdown",
      "metadata": {
        "id": "fr3taxXhbozU"
      },
      "source": [
        "## 8. Copy, View\n",
        "\n",
        "**Kontekst:** Podczas preprocessingu zespoły czasami pracują na tym samym obiekcie myśląc, że mają kopię — to prowadzi do skażenia danych.\n",
        "\n",
        "**Polecenie**\n",
        "\n",
        "* Stwórz `patients = np.random.randint(60, 120, (5, 4))`.\n",
        "  * `doctors_view`, gdzie doktor będzie przeglądał tylko co drugi pomiar,\n",
        "  * `research_copy`, czyli kopię patients.\n",
        "* Lekarz przez pomyłkę wykona `doctors_view[:] = -1`.\n",
        "* Sprawdź, czy `patients` się zmieniło i czy `research_copy` pozostało bez zmian. Wyjaśnij.\n",
        "\n",
        "**Pytanie kontrolne:** W jaki sposób zabezpieczyć workflow, żeby przypadkowe zmiany nie wpływały na bazę danych?"
      ]
    },
    {
      "cell_type": "code",
      "execution_count": null,
      "metadata": {
        "colab": {
          "base_uri": "https://localhost:8080/"
        },
        "id": "UBO_7O2RbozV",
        "outputId": "fe47dfe3-0876-46b2-de50-9529d3123dc9"
      },
      "outputs": [
        {
          "output_type": "stream",
          "name": "stdout",
          "text": [
            "przed zmiana:\n",
            " [[ 70 103  85 107]\n",
            " [ 62  96  91  87]\n",
            " [ 77 118  95  89]\n",
            " [ 97  80 108 111]\n",
            " [ 74  83  86 112]]\n",
            "po zmianie doctors_view:\n",
            " [[ -1 103  -1 107]\n",
            " [ -1  96  -1  87]\n",
            " [ -1 118  -1  89]\n",
            " [ -1  80  -1 111]\n",
            " [ -1  83  -1 112]]\n",
            "research_copy (czy zmienione?):\n",
            " [[ 70 103  85 107]\n",
            " [ 62  96  91  87]\n",
            " [ 77 118  95  89]\n",
            " [ 97  80 108 111]\n",
            " [ 74  83  86 112]]\n",
            "doctors_view.base is patients? True\n",
            "research_copy.base is patients? False\n"
          ]
        }
      ],
      "source": [
        "import numpy as np\n",
        "\n",
        "patients = np.random.randint(60, 120, (5, 4))\n",
        "doctors_view = patients[:, ::2]\n",
        "research_copy = patients.copy()\n",
        "\n",
        "print(\"przed zmiana:\\n\", patients)\n",
        "doctors_view[:] = -1\n",
        "print(\"po zmianie doctors_view:\\n\", patients)\n",
        "print(\"research_copy (czy zmienione?):\\n\", research_copy)\n",
        "\n",
        "# wykrywamy, które są view / copy\n",
        "print(\"doctors_view.base is patients?\", doctors_view.base is patients)\n",
        "print(\"research_copy.base is patients?\", research_copy.base is patients)"
      ]
    },
    {
      "cell_type": "markdown",
      "metadata": {
        "id": "254C2BfibozW"
      },
      "source": [
        "## 9. Jak CNN „przesuwa okno” po obrazie?\n",
        "\n",
        "**Kontekst:** W konwolucyjnej sieci neuronowej filtr (np. 3×3) „przesuwa się” po obrazie piksel po pikselu. Parametr stride określa, o ile pikseli filtr przesuwa się w pamięci między kolejnymi pozycjami. Zrozumienie, jak numpy.strides działa, pozwala intuicyjnie pojąć, dlaczego operacja konwolucji może być wydajna bez kopiowania danych.\n",
        "\n",
        "**Polecenie**\n",
        "\n",
        "1. Utwórz: `A = np.arange(1,13).reshape(3,4)` — traktuj jako obraz `3 × 4`, oraz `AT = A.T`.\n",
        "2. Wypisz: `A`, `A.strides`, `AT`, `AT.strides`.\n",
        "3. Oblicz ile bajtów trzeba przeskoczyć, aby dotrzeć:\n",
        "   * od `A[0,0]` do `A[0,1]`,\n",
        "   * od `A[0,0]` do `A[1,0]`.\n",
        "4. Sprawdź, czy `AT` jest widokiem (`AT.base is A`), zmień `A[0,0] = -99` i sprawdź `AT`.\n",
        "5. Napisz funkcję `memory_offset(A, i, j)`, która obliczy ile bajtów trzeba przejść od `A[0][0]` do miejsca `A[i][j]`\n",
        "   Użyj jej, żeby policzyć offsety kilku elementów w `A` i `A.T`. Zinterpretuj wyniki.\n",
        "\n",
        "**Pytanie kontrolne:** Wyjaśnij własnymi słowami: co się stanie jak zmienisz `strides`?"
      ]
    },
    {
      "cell_type": "code",
      "execution_count": null,
      "metadata": {
        "colab": {
          "base_uri": "https://localhost:8080/"
        },
        "id": "6cr5tqfEbozW",
        "outputId": "077f3313-1cd9-4f05-cad6-c3bb8dcdaeeb"
      },
      "outputs": [
        {
          "output_type": "stream",
          "name": "stdout",
          "text": [
            "A:\n",
            " [[ 1  2  3  4]\n",
            " [ 5  6  7  8]\n",
            " [ 9 10 11 12]]\n",
            "A.strides: (32, 8)\n",
            "AT:\n",
            " [[ 1  5  9]\n",
            " [ 2  6 10]\n",
            " [ 3  7 11]\n",
            " [ 4  8 12]]\n",
            "AT.strides: (8, 32)\n",
            "itemsize (bajtów per element): 8\n",
            "offset A[0,0] -> A[0,1] (bajtów): 8\n",
            "offset A[0,0] -> A[1,0] (bajtów): 32\n",
            "A.T.base is A ? False\n",
            "A po zmianie:\n",
            " [[-99   2   3   4]\n",
            " [  5   6   7   8]\n",
            " [  9  10  11  12]]\n",
            "A.T po zmianie:\n",
            " [[-99   5   9]\n",
            " [  2   6  10]\n",
            " [  3   7  11]\n",
            " [  4   8  12]]\n",
            "memory offset A[2,3]: 88\n",
            "memory offset AT[2,3]: 112\n"
          ]
        }
      ],
      "source": [
        "import numpy as np\n",
        "\n",
        "A = np.arange(1, 13).reshape(3, 4)\n",
        "print(\"A:\\n\", A)\n",
        "print(\"A.strides:\", A.strides)\n",
        "\n",
        "AT = A.T\n",
        "print(\"AT:\\n\", AT)\n",
        "print(\"AT.strides:\", AT.strides)\n",
        "\n",
        "# elementsize (liczba bajtów na element)\n",
        "bs = A.itemsize\n",
        "print(\"itemsize (bajtów per element):\", bs)\n",
        "\n",
        "# obliczenia ręczne:\n",
        "offset_A_00_to_01 = bs\n",
        "offset_A_00_to_10 = A.shape[1] * bs\n",
        "print(\"offset A[0,0] -> A[0,1] (bajtów):\", offset_A_00_to_01)\n",
        "print(\"offset A[0,0] -> A[1,0] (bajtów):\", offset_A_00_to_10)\n",
        "\n",
        "# sprawdzenie widoku\n",
        "print(\"A.T.base is A ?\", AT.base is A)\n",
        "\n",
        "# zmiana A i obserwacja AT\n",
        "A[0,0] = -99\n",
        "print(\"A po zmianie:\\n\", A)\n",
        "print(\"A.T po zmianie:\\n\", AT)\n",
        "\n",
        "# funkcja memory_offset\n",
        "def memory_offset(M, i, j):\n",
        "    return M.strides[0] * i + M.strides[1] * j\n",
        "\n",
        "print(\"memory offset A[2,3]:\", memory_offset(A, 2, 3))\n",
        "print(\"memory offset AT[2,3]:\", memory_offset(AT, 2, 3))"
      ]
    },
    {
      "cell_type": "markdown",
      "metadata": {
        "id": "OUvSmkqvbozX"
      },
      "source": [
        "## 10. ⭐️ Zaawansowana augmentacja i analiza obrazów RGB\n",
        "\n",
        "**Kontekst:** Przy trenowaniu CNN operujemy na obrazach RGB. Często robimy augmentacje (jasność, kontrast, rotacje, przesunięcia) i porównujemy obrazy np. za pomocą **cosine similarity**. Trzeba uważać, które operacje zwracają **widok**, a które **kopię**, aby nie psuć danych przez przypadek.\n",
        "\n",
        "**Polecenie**\n",
        "\n",
        "1. Wygeneruj **10 losowych obrazów RGB**, każdy o wymiarach `32×32×3` z wartościami `uint8` (0–255).\n",
        "2. Napisz funkcję `cosine_similarity(img1, img2)`, która oblicza podobieństwo kosinusowe między dwoma obrazami traktowanymi jako wektory.\n",
        "3. Stwórz funkcję `augment(img)` która tworzy warianty obrazu:\n",
        "\n",
        "   * oryginał,\n",
        "   * flip poziomy,\n",
        "   * flip pionowy,\n",
        "   * rotacja 90°,\n",
        "   * jaśniejsza wersja,\n",
        "   * wersja z większym kontrastem,\n",
        "   * mały przesunięty fragment (crop + pad),\n",
        "   * zamiana kanałów RGB na BGR.\n",
        "4. Dla każdego wariantu sprawdź, które są **widokiem**, a które **kopią** (`.base`).\n",
        "5. Oblicz macierz podobieństwa kosinusowego między wszystkimi 10 obrazami oryginalnymi i wypisz średnie podobieństwo.\n",
        "6. Oblicz podobieństwo między oryginałami a ich wariantami i sprawdź, które operacje najbardziej zmieniają obraz (najmniejsze cosine similarity).   "
      ]
    },
    {
      "cell_type": "code",
      "execution_count": 80,
      "metadata": {
        "id": "oVjA_3MobozY"
      },
      "outputs": [],
      "source": [
        "images = np.random.randint(0, 256, (10, 32, 32, 3)) #  dtype=np.uint8 powoduje, ze cosine similarity zwraca wartosci blisko 0"
      ]
    },
    {
      "cell_type": "code",
      "source": [
        "def cosine_similatrity(img1, img2):\n",
        "    img1 = img1.flatten()\n",
        "    img2 = img2.flatten()\n",
        "    return (img1 @ img2) / (np.linalg.norm(img1) * np.linalg.norm(img2))"
      ],
      "metadata": {
        "id": "B-WaiQM8V4uH"
      },
      "execution_count": 81,
      "outputs": []
    },
    {
      "cell_type": "code",
      "source": [
        "x = np.zeros((32, 32, 3))\n",
        "\n",
        "x[:16, :16, :] = np.random.randint(0, 256, (32, 32, 3))[:16, :16, :]"
      ],
      "metadata": {
        "id": "vneG7brjlsxK"
      },
      "execution_count": 82,
      "outputs": []
    },
    {
      "cell_type": "code",
      "source": [
        "def augument(img, print_base_check=False):\n",
        "    flip_h = np.flip(img, axis=1)\n",
        "    flip_v = np.flip(img, axis=0)\n",
        "    rot = np.rot90(img)\n",
        "    brighter = np.clip(img + 20, 0, 255)\n",
        "    contrast = np.clip(img * 1.25, 0, 255)\n",
        "    small = np.zeros_like(img)\n",
        "    small[:16, :16, :] = img[:16, :16, :]\n",
        "    bgr = img[:, :, ::-1]\n",
        "\n",
        "    if print_base_check:\n",
        "        print(\"flip_h.base is img:\", flip_h.base is img)\n",
        "        print(\"flip_v.base is img:\", flip_v.base is img)\n",
        "        print(\"rot.base is img:\", rot.base is img)\n",
        "        print(\"brighter.base is img:\", brighter.base is img)\n",
        "        print(\"contrast.base is img:\", contrast.base is img)\n",
        "        print(\"small.base is img:\", small.base is img)\n",
        "        print(\"bgr.base is img:\", bgr.base is img)\n",
        "\n",
        "    return np.array([img, flip_h, flip_v, rot, brighter, contrast, small, bgr])"
      ],
      "metadata": {
        "id": "vxDiC5Bmh-ag"
      },
      "execution_count": 83,
      "outputs": []
    },
    {
      "cell_type": "code",
      "source": [
        "temp = augument(images[0], print_base_check=True)"
      ],
      "metadata": {
        "colab": {
          "base_uri": "https://localhost:8080/"
        },
        "id": "Mmsbd3vMh-pc",
        "outputId": "bdd21295-dd78-4b99-f79e-0a409451fcb0"
      },
      "execution_count": 84,
      "outputs": [
        {
          "output_type": "stream",
          "name": "stdout",
          "text": [
            "flip_h.base is img: False\n",
            "flip_v.base is img: False\n",
            "rot.base is img: False\n",
            "brighter.base is img: False\n",
            "contrast.base is img: False\n",
            "small.base is img: False\n",
            "bgr.base is img: False\n"
          ]
        }
      ]
    },
    {
      "cell_type": "code",
      "source": [
        "cos_mat = np.zeros((10, 10))\n",
        "for i in range(10):\n",
        "    for j in range(10):\n",
        "        cos_mat[i, j] = cosine_similatrity(images[i], images[j])"
      ],
      "metadata": {
        "id": "y0Eky_ZDsp-Q"
      },
      "execution_count": 85,
      "outputs": []
    },
    {
      "cell_type": "code",
      "source": [
        "cos_mat.mean()"
      ],
      "metadata": {
        "colab": {
          "base_uri": "https://localhost:8080/"
        },
        "id": "pKXNDgT-uNTJ",
        "outputId": "d47a66e5-06c4-4837-e292-fcb446db7380"
      },
      "execution_count": 86,
      "outputs": [
        {
          "output_type": "execute_result",
          "data": {
            "text/plain": [
              "np.float64(0.7757556111431377)"
            ]
          },
          "metadata": {},
          "execution_count": 86
        }
      ]
    },
    {
      "cell_type": "code",
      "source": [
        "aug_names = [\"original\", \"flip_h\", \"flip_v\", \"rot\", \"brighter\", \"contrast\", \"small\", \"bgr\"]\n",
        "for i in range(10):\n",
        "    argumented_images = argument(images[i])\n",
        "    print(f\"Cosine similarities for image {i}:\")\n",
        "    for j, aug_img in enumerate(argumented_images):\n",
        "        sim = cosine_similatrity(images[i], aug_img)\n",
        "        print(f\"  vs {aug_names[j]}: {sim}\")\n",
        "    print(\"-\" * 20)"
      ],
      "metadata": {
        "colab": {
          "base_uri": "https://localhost:8080/"
        },
        "id": "XCQOOXnwybt-",
        "outputId": "9b846e96-9b9a-41df-fda0-e382b21f40a0"
      },
      "execution_count": 87,
      "outputs": [
        {
          "output_type": "stream",
          "name": "stdout",
          "text": [
            "Cosine similarities for image 0:\n",
            "  vs original: 1.0\n",
            "  vs flip_h: 0.7475363028813041\n",
            "  vs flip_v: 0.7488178497265283\n",
            "  vs rot: 0.752803275059576\n",
            "  vs brighter: 0.9977198081786444\n",
            "  vs contrast: 0.9971746211008022\n",
            "  vs small: 0.5071331650453625\n",
            "  vs bgr: 0.8233348525223626\n",
            "--------------------\n",
            "Cosine similarities for image 1:\n",
            "  vs original: 1.0\n",
            "  vs flip_h: 0.758630673140669\n",
            "  vs flip_v: 0.7480786770636573\n",
            "  vs rot: 0.7464272779422714\n",
            "  vs brighter: 0.9976198308039114\n",
            "  vs contrast: 0.9970570027432463\n",
            "  vs small: 0.5054147279942962\n",
            "  vs bgr: 0.8345994297608269\n",
            "--------------------\n",
            "Cosine similarities for image 2:\n",
            "  vs original: 0.9999999999999999\n",
            "  vs flip_h: 0.7526617374789172\n",
            "  vs flip_v: 0.7357582887479591\n",
            "  vs rot: 0.7317860531708354\n",
            "  vs brighter: 0.9975798006613744\n",
            "  vs contrast: 0.9972054229887024\n",
            "  vs small: 0.4903257269367314\n",
            "  vs bgr: 0.8266016586298951\n",
            "--------------------\n",
            "Cosine similarities for image 3:\n",
            "  vs original: 0.9999999999999999\n",
            "  vs flip_h: 0.7405258480458905\n",
            "  vs flip_v: 0.7463136237390999\n",
            "  vs rot: 0.7480720614940526\n",
            "  vs brighter: 0.9976537224080668\n",
            "  vs contrast: 0.997200609803908\n",
            "  vs small: 0.4978649985527369\n",
            "  vs bgr: 0.8383437382164175\n",
            "--------------------\n",
            "Cosine similarities for image 4:\n",
            "  vs original: 1.0\n",
            "  vs flip_h: 0.7613216926125975\n",
            "  vs flip_v: 0.7509385750353232\n",
            "  vs rot: 0.7521811319913889\n",
            "  vs brighter: 0.9976577617992336\n",
            "  vs contrast: 0.9971292988091986\n",
            "  vs small: 0.49412459838996964\n",
            "  vs bgr: 0.8248827611989061\n",
            "--------------------\n",
            "Cosine similarities for image 5:\n",
            "  vs original: 1.0\n",
            "  vs flip_h: 0.7478849324561906\n",
            "  vs flip_v: 0.7463197284751676\n",
            "  vs rot: 0.7453847452388083\n",
            "  vs brighter: 0.9977019859336876\n",
            "  vs contrast: 0.9972321768825817\n",
            "  vs small: 0.49633404408040477\n",
            "  vs bgr: 0.8203619180511555\n",
            "--------------------\n",
            "Cosine similarities for image 6:\n",
            "  vs original: 0.9999999999999998\n",
            "  vs flip_h: 0.7539605954602142\n",
            "  vs flip_v: 0.7506209183527437\n",
            "  vs rot: 0.7557761108836897\n",
            "  vs brighter: 0.9977454606432714\n",
            "  vs contrast: 0.9972705048570926\n",
            "  vs small: 0.5004875342594826\n",
            "  vs bgr: 0.8263490315418612\n",
            "--------------------\n",
            "Cosine similarities for image 7:\n",
            "  vs original: 1.0000000000000002\n",
            "  vs flip_h: 0.7549155653356813\n",
            "  vs flip_v: 0.7485247279607915\n",
            "  vs rot: 0.7580073660635089\n",
            "  vs brighter: 0.9977538329212535\n",
            "  vs contrast: 0.9971901861513583\n",
            "  vs small: 0.4980590031851844\n",
            "  vs bgr: 0.8366814746319257\n",
            "--------------------\n",
            "Cosine similarities for image 8:\n",
            "  vs original: 1.0\n",
            "  vs flip_h: 0.7496784080949807\n",
            "  vs flip_v: 0.7528845639614021\n",
            "  vs rot: 0.7507138361025677\n",
            "  vs brighter: 0.9977291607168824\n",
            "  vs contrast: 0.9972339809276703\n",
            "  vs small: 0.5011116529668957\n",
            "  vs bgr: 0.8411588358294196\n",
            "--------------------\n",
            "Cosine similarities for image 9:\n",
            "  vs original: 1.0\n",
            "  vs flip_h: 0.7530443732131247\n",
            "  vs flip_v: 0.7393266491546996\n",
            "  vs rot: 0.7395362692292213\n",
            "  vs brighter: 0.9976619570425519\n",
            "  vs contrast: 0.9971596505116149\n",
            "  vs small: 0.49171591718173074\n",
            "  vs bgr: 0.8343918756328224\n",
            "--------------------\n"
          ]
        }
      ]
    },
    {
      "cell_type": "markdown",
      "source": [
        "Wycinek oraz padding najbardziej zmienia obraz"
      ],
      "metadata": {
        "id": "Zc7AyQ_hzlii"
      }
    },
    {
      "cell_type": "markdown",
      "metadata": {
        "id": "t0MrI7BGbozY"
      },
      "source": [
        "## 11. ⭐️ Świadome kopiowanie\n",
        "\n",
        "**Kontekst**\n",
        "Pracujesz z dużymi macierzami w Pythonie/NumPy, które reprezentują np. wyniki eksperymentów, symulacje lub dane użytkowników.\n",
        "\n",
        "**Polecenie**\n",
        "Twoim zadaniem jest zdecydować w jaki sposób należy **modyfikować dane**, w miejscu, w kopii, czy wystarczy widok? A może trzeba użyć deepcopy? Rozważ dwa przypadki - kiedy używasz biblioteki `numpy` i `copy`. Odpowiedz na wszystkie pytania. W każdej części musisz **uzasadnić wybór metody**.\n",
        "\n",
        "Na początku stwórz dwuwymiarową tablicę `M`, na której będziesz demonstrować i uzasadniać użycie wybranej metody.\n",
        "\n",
        "#### **a) Lokalna korekta**\n",
        "\n",
        "Wartość w komórce `[0,0]` jest błędna i powinna być `1`.\n",
        "\n",
        "* Jak poprawisz tę wartość?\n",
        "* Czy zmieniasz oryginał, czy tworzysz kopię?\n",
        "* Jak działa pamięć w tym przypadku?\n",
        "\n",
        "#### **b) Alternatywna wersja danych**\n",
        "\n",
        "Chcesz stworzyć **zmodyfikowaną wersję danych**, np. w kolumnie 2 przeskalować wszystkie wartości, w celu przeprowadzenia eksperymentu.\n",
        "\n",
        "* Zastanów się, czy potrzebujesz `view`, `copy` czy `deepcopy`.\n",
        "* Przetestuj różne podejścia (`M.view()`, `M.copy()`) i sprawdź, co się dzieje po modyfikacji nowej macierzy.\n",
        "\n",
        "#### **c) Symulacje z listą zagnieżdżoną**\n",
        "\n",
        "Tworzysz listę eksperymentów:\n",
        "\n",
        "```python\n",
        "L = [M, M.copy()]\n",
        "```\n",
        "\n",
        "Teraz chcesz **przeprowadzić symulacje zmian**, np. dodając losowe wartości, **bez zmiany oryginału** ani kopii w `L`.\n",
        "\n",
        "* Jakiego rodzaju kopiowania użyjesz?\n",
        "* Co się stanie, jeśli użyjesz tylko `copy` zamiast `deepcopy`, gdy struktura jest zagnieżdżona?\n",
        "\n",
        "#### **d) Podzbiór kolumn**\n",
        "\n",
        "Wybierasz podzbiór kolumn np. 1 i 3:\n",
        "\n",
        "```python\n",
        "subset = M[:, [1, 3]]\n",
        "```\n",
        "\n",
        "* Sprawdź, czy zmiany w `subset` wpływają na `M`.\n",
        "* Porównaj to z cięciem typu `subset = M[:, 1:3]`."
      ]
    },
    {
      "cell_type": "markdown",
      "source": [
        "#### Numpy(tam gdzie sie da)"
      ],
      "metadata": {
        "id": "hz0Ni-lZDoXv"
      }
    },
    {
      "cell_type": "markdown",
      "source": [
        "Podpunkt a"
      ],
      "metadata": {
        "id": "YfAZFE_F7a99"
      }
    },
    {
      "cell_type": "code",
      "source": [
        "M = np.arange(1, 11).reshape(2, 5)\n",
        "# Tak poprawie wartosc:\n",
        "M[0, 0] = 1\n",
        "# Zmieniam oryginal\n",
        "# Zamiana dziala w miejscu\n",
        "# Zmieniam tak dlatego, bo skoro wartosc jest zla to trzeba wszystkie eksperymenty puscic jeszcze raz z poprawnymi danymi"
      ],
      "metadata": {
        "id": "D4uaSnSw8NiM"
      },
      "execution_count": 97,
      "outputs": []
    },
    {
      "cell_type": "markdown",
      "source": [
        "Podpunkt b"
      ],
      "metadata": {
        "id": "k0NJDqCP9Gdm"
      }
    },
    {
      "cell_type": "code",
      "source": [
        "M = np.arange(1, 11).reshape(2, 5)\n",
        "print(M)\n",
        "M_view = M.view()\n",
        "M_view[:, 2] *= 2\n",
        "print(M_view)\n",
        "print(M)"
      ],
      "metadata": {
        "colab": {
          "base_uri": "https://localhost:8080/"
        },
        "id": "WH2C3P6f9IVy",
        "outputId": "81149a4f-1ed1-483e-a56c-b940e6ff9684"
      },
      "execution_count": 90,
      "outputs": [
        {
          "output_type": "stream",
          "name": "stdout",
          "text": [
            "[[ 1  2  3  4  5]\n",
            " [ 6  7  8  9 10]]\n",
            "[[ 1  2  6  4  5]\n",
            " [ 6  7 16  9 10]]\n",
            "[[ 1  2  6  4  5]\n",
            " [ 6  7 16  9 10]]\n"
          ]
        }
      ]
    },
    {
      "cell_type": "code",
      "source": [
        "M = np.arange(1, 11).reshape(2, 5)\n",
        "print(M)\n",
        "M_copy = M.copy()\n",
        "M_copy[:, 2] *= 2\n",
        "print(M_copy)\n",
        "print(M)"
      ],
      "metadata": {
        "colab": {
          "base_uri": "https://localhost:8080/"
        },
        "id": "ErY_Ma2b_Ja8",
        "outputId": "fa527b37-8d6b-4226-c584-75f1fe00ffe1"
      },
      "execution_count": 91,
      "outputs": [
        {
          "output_type": "stream",
          "name": "stdout",
          "text": [
            "[[ 1  2  3  4  5]\n",
            " [ 6  7  8  9 10]]\n",
            "[[ 1  2  6  4  5]\n",
            " [ 6  7 16  9 10]]\n",
            "[[ 1  2  3  4  5]\n",
            " [ 6  7  8  9 10]]\n"
          ]
        }
      ]
    },
    {
      "cell_type": "markdown",
      "source": [
        "Potrzebujemy copy. Nie ma sensu robic view, bo wtedy mozemy zaburzyc poprzednie eksperymenty, a deepcopy nie jest potrzebne w tym przypadku."
      ],
      "metadata": {
        "id": "t0Jrn1cE_U7B"
      }
    },
    {
      "cell_type": "markdown",
      "source": [
        "Podpunkt c"
      ],
      "metadata": {
        "id": "B29EPe4t_kzu"
      }
    },
    {
      "cell_type": "code",
      "source": [
        "M = np.arange(1, 11).reshape(2, 5)\n",
        "L = [M, M.copy()]\n",
        "print(L)\n",
        "L_copy = L.copy()\n",
        "L_copy[0][0, 0] = 100\n",
        "print(L_copy)\n",
        "print(L)"
      ],
      "metadata": {
        "colab": {
          "base_uri": "https://localhost:8080/"
        },
        "id": "lCG9hRJw_r4e",
        "outputId": "557a040d-6aa3-4d25-9719-4c115b624d97"
      },
      "execution_count": 92,
      "outputs": [
        {
          "output_type": "stream",
          "name": "stdout",
          "text": [
            "[array([[ 1,  2,  3,  4,  5],\n",
            "       [ 6,  7,  8,  9, 10]]), array([[ 1,  2,  3,  4,  5],\n",
            "       [ 6,  7,  8,  9, 10]])]\n",
            "[array([[100,   2,   3,   4,   5],\n",
            "       [  6,   7,   8,   9,  10]]), array([[ 1,  2,  3,  4,  5],\n",
            "       [ 6,  7,  8,  9, 10]])]\n",
            "[array([[100,   2,   3,   4,   5],\n",
            "       [  6,   7,   8,   9,  10]]), array([[ 1,  2,  3,  4,  5],\n",
            "       [ 6,  7,  8,  9, 10]])]\n"
          ]
        }
      ]
    },
    {
      "cell_type": "code",
      "source": [
        "import copy"
      ],
      "metadata": {
        "id": "hJEsl_fUBpGE"
      },
      "execution_count": 93,
      "outputs": []
    },
    {
      "cell_type": "code",
      "source": [
        "M = np.arange(1, 11).reshape(2, 5)\n",
        "L = [M, M.copy()]\n",
        "print(L)\n",
        "L_deepcopy = copy.deepcopy(L)\n",
        "L_deepcopy[0][0, 0] = 100\n",
        "print(L_deepcopy)\n",
        "print(L)"
      ],
      "metadata": {
        "colab": {
          "base_uri": "https://localhost:8080/"
        },
        "id": "5QiYs5YWBYkS",
        "outputId": "18328220-2926-4456-88a3-16683f536492"
      },
      "execution_count": 94,
      "outputs": [
        {
          "output_type": "stream",
          "name": "stdout",
          "text": [
            "[array([[ 1,  2,  3,  4,  5],\n",
            "       [ 6,  7,  8,  9, 10]]), array([[ 1,  2,  3,  4,  5],\n",
            "       [ 6,  7,  8,  9, 10]])]\n",
            "[array([[100,   2,   3,   4,   5],\n",
            "       [  6,   7,   8,   9,  10]]), array([[ 1,  2,  3,  4,  5],\n",
            "       [ 6,  7,  8,  9, 10]])]\n",
            "[array([[ 1,  2,  3,  4,  5],\n",
            "       [ 6,  7,  8,  9, 10]]), array([[ 1,  2,  3,  4,  5],\n",
            "       [ 6,  7,  8,  9, 10]])]\n"
          ]
        }
      ]
    },
    {
      "cell_type": "markdown",
      "source": [
        ".copy() na liscie z pythona robi plytkie kopiowanie (przez referencje)\n",
        "\n",
        ".deepcopy() rozwiazuje ten problem kopiujac pamiec\n",
        "\n",
        "Dlatego wybieram deepcopy\n"
      ],
      "metadata": {
        "id": "e7ptgTfZBsUo"
      }
    },
    {
      "cell_type": "markdown",
      "source": [
        "Podpunkt d"
      ],
      "metadata": {
        "id": "TT16hvBtCHfj"
      }
    },
    {
      "cell_type": "code",
      "source": [
        "M = np.arange(1, 11).reshape(2, 5)\n",
        "subset = M[:, [1, 3]]\n",
        "subset[0, 0] = 100\n",
        "print(M)\n",
        "# Zmiany w subset nie wplywaja na M"
      ],
      "metadata": {
        "colab": {
          "base_uri": "https://localhost:8080/"
        },
        "id": "tqmvvzVcCb2R",
        "outputId": "823691d6-708e-409b-d1d1-fdda0f53c201"
      },
      "execution_count": 95,
      "outputs": [
        {
          "output_type": "stream",
          "name": "stdout",
          "text": [
            "[[ 1  2  3  4  5]\n",
            " [ 6  7  8  9 10]]\n"
          ]
        }
      ]
    },
    {
      "cell_type": "code",
      "source": [
        "M = np.arange(1, 11).reshape(2, 5)\n",
        "subset = M[:, 1:3]\n",
        "subset[0, 0] = 100\n",
        "print(M)\n",
        "# Zmiany w subset wplywaja na M"
      ],
      "metadata": {
        "colab": {
          "base_uri": "https://localhost:8080/"
        },
        "id": "Q4WjnUgdCiTs",
        "outputId": "c8a4f7b8-df64-4080-dcd4-bd26694dc1b9"
      },
      "execution_count": 96,
      "outputs": [
        {
          "output_type": "stream",
          "name": "stdout",
          "text": [
            "[[  1 100   3   4   5]\n",
            " [  6   7   8   9  10]]\n"
          ]
        }
      ]
    },
    {
      "cell_type": "markdown",
      "source": [
        "[1, 3] to indeksowanie finezyjne i zawsze jest robione przez kopie\n",
        "\n",
        "1:3 to slicing i jezeli to jest mozliwe to numpy bedzie zwracal widok"
      ],
      "metadata": {
        "id": "HGIEayT4Cr7h"
      }
    },
    {
      "cell_type": "code",
      "source": [
        "# Nie widze sensu robic to samo dla biblioteki copy"
      ],
      "metadata": {
        "id": "r6Uw3uXeIWGM"
      },
      "execution_count": 106,
      "outputs": []
    },
    {
      "cell_type": "code",
      "source": [],
      "metadata": {
        "id": "hFmC9PIeIaC6"
      },
      "execution_count": null,
      "outputs": []
    }
  ],
  "metadata": {
    "kernelspec": {
      "display_name": "Python 3.6 (tensorflow)",
      "language": "python",
      "name": "tensorflow"
    },
    "language_info": {
      "codemirror_mode": {
        "name": "ipython",
        "version": 3
      },
      "file_extension": ".py",
      "mimetype": "text/x-python",
      "name": "python",
      "nbconvert_exporter": "python",
      "pygments_lexer": "ipython3",
      "version": "3.11.0"
    },
    "colab": {
      "provenance": [],
      "include_colab_link": true
    }
  },
  "nbformat": 4,
  "nbformat_minor": 0
}